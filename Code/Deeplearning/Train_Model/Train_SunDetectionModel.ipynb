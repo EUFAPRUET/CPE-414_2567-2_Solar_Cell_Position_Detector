{
  "nbformat": 4,
  "nbformat_minor": 0,
  "metadata": {
    "colab": {
      "provenance": [],
      "gpuType": "T4"
    },
    "kernelspec": {
      "name": "python3",
      "display_name": "Python 3"
    },
    "language_info": {
      "name": "python"
    },
    "accelerator": "GPU"
  },
  "cells": [
    {
      "cell_type": "code",
      "execution_count": null,
      "metadata": {
        "id": "Zwt4Cn-DcdvV",
        "outputId": "45f2c3ca-aa69-4695-b675-0aa32f462bab",
        "colab": {
          "base_uri": "https://localhost:8080/"
        }
      },
      "outputs": [
        {
          "output_type": "stream",
          "name": "stdout",
          "text": [
            "Sun Jan 26 07:13:31 2025       \n",
            "+---------------------------------------------------------------------------------------+\n",
            "| NVIDIA-SMI 535.104.05             Driver Version: 535.104.05   CUDA Version: 12.2     |\n",
            "|-----------------------------------------+----------------------+----------------------+\n",
            "| GPU  Name                 Persistence-M | Bus-Id        Disp.A | Volatile Uncorr. ECC |\n",
            "| Fan  Temp   Perf          Pwr:Usage/Cap |         Memory-Usage | GPU-Util  Compute M. |\n",
            "|                                         |                      |               MIG M. |\n",
            "|=========================================+======================+======================|\n",
            "|   0  Tesla T4                       Off | 00000000:00:04.0 Off |                    0 |\n",
            "| N/A   48C    P8               9W /  70W |      0MiB / 15360MiB |      0%      Default |\n",
            "|                                         |                      |                  N/A |\n",
            "+-----------------------------------------+----------------------+----------------------+\n",
            "                                                                                         \n",
            "+---------------------------------------------------------------------------------------+\n",
            "| Processes:                                                                            |\n",
            "|  GPU   GI   CI        PID   Type   Process name                            GPU Memory |\n",
            "|        ID   ID                                                             Usage      |\n",
            "|=======================================================================================|\n",
            "|  No running processes found                                                           |\n",
            "+---------------------------------------------------------------------------------------+\n",
            "Collecting ultralytics\n",
            "  Downloading ultralytics-8.3.67-py3-none-any.whl.metadata (35 kB)\n",
            "Requirement already satisfied: numpy>=1.23.0 in /usr/local/lib/python3.11/dist-packages (from ultralytics) (1.26.4)\n",
            "Requirement already satisfied: matplotlib>=3.3.0 in /usr/local/lib/python3.11/dist-packages (from ultralytics) (3.10.0)\n",
            "Requirement already satisfied: opencv-python>=4.6.0 in /usr/local/lib/python3.11/dist-packages (from ultralytics) (4.10.0.84)\n",
            "Requirement already satisfied: pillow>=7.1.2 in /usr/local/lib/python3.11/dist-packages (from ultralytics) (11.1.0)\n",
            "Requirement already satisfied: pyyaml>=5.3.1 in /usr/local/lib/python3.11/dist-packages (from ultralytics) (6.0.2)\n",
            "Requirement already satisfied: requests>=2.23.0 in /usr/local/lib/python3.11/dist-packages (from ultralytics) (2.32.3)\n",
            "Requirement already satisfied: scipy>=1.4.1 in /usr/local/lib/python3.11/dist-packages (from ultralytics) (1.13.1)\n",
            "Requirement already satisfied: torch>=1.8.0 in /usr/local/lib/python3.11/dist-packages (from ultralytics) (2.5.1+cu121)\n",
            "Requirement already satisfied: torchvision>=0.9.0 in /usr/local/lib/python3.11/dist-packages (from ultralytics) (0.20.1+cu121)\n",
            "Requirement already satisfied: tqdm>=4.64.0 in /usr/local/lib/python3.11/dist-packages (from ultralytics) (4.67.1)\n",
            "Requirement already satisfied: psutil in /usr/local/lib/python3.11/dist-packages (from ultralytics) (5.9.5)\n",
            "Requirement already satisfied: py-cpuinfo in /usr/local/lib/python3.11/dist-packages (from ultralytics) (9.0.0)\n",
            "Requirement already satisfied: pandas>=1.1.4 in /usr/local/lib/python3.11/dist-packages (from ultralytics) (2.2.2)\n",
            "Requirement already satisfied: seaborn>=0.11.0 in /usr/local/lib/python3.11/dist-packages (from ultralytics) (0.13.2)\n",
            "Collecting ultralytics-thop>=2.0.0 (from ultralytics)\n",
            "  Downloading ultralytics_thop-2.0.14-py3-none-any.whl.metadata (9.4 kB)\n",
            "Requirement already satisfied: contourpy>=1.0.1 in /usr/local/lib/python3.11/dist-packages (from matplotlib>=3.3.0->ultralytics) (1.3.1)\n",
            "Requirement already satisfied: cycler>=0.10 in /usr/local/lib/python3.11/dist-packages (from matplotlib>=3.3.0->ultralytics) (0.12.1)\n",
            "Requirement already satisfied: fonttools>=4.22.0 in /usr/local/lib/python3.11/dist-packages (from matplotlib>=3.3.0->ultralytics) (4.55.4)\n",
            "Requirement already satisfied: kiwisolver>=1.3.1 in /usr/local/lib/python3.11/dist-packages (from matplotlib>=3.3.0->ultralytics) (1.4.8)\n",
            "Requirement already satisfied: packaging>=20.0 in /usr/local/lib/python3.11/dist-packages (from matplotlib>=3.3.0->ultralytics) (24.2)\n",
            "Requirement already satisfied: pyparsing>=2.3.1 in /usr/local/lib/python3.11/dist-packages (from matplotlib>=3.3.0->ultralytics) (3.2.1)\n",
            "Requirement already satisfied: python-dateutil>=2.7 in /usr/local/lib/python3.11/dist-packages (from matplotlib>=3.3.0->ultralytics) (2.8.2)\n",
            "Requirement already satisfied: pytz>=2020.1 in /usr/local/lib/python3.11/dist-packages (from pandas>=1.1.4->ultralytics) (2024.2)\n",
            "Requirement already satisfied: tzdata>=2022.7 in /usr/local/lib/python3.11/dist-packages (from pandas>=1.1.4->ultralytics) (2025.1)\n",
            "Requirement already satisfied: charset-normalizer<4,>=2 in /usr/local/lib/python3.11/dist-packages (from requests>=2.23.0->ultralytics) (3.4.1)\n",
            "Requirement already satisfied: idna<4,>=2.5 in /usr/local/lib/python3.11/dist-packages (from requests>=2.23.0->ultralytics) (3.10)\n",
            "Requirement already satisfied: urllib3<3,>=1.21.1 in /usr/local/lib/python3.11/dist-packages (from requests>=2.23.0->ultralytics) (2.3.0)\n",
            "Requirement already satisfied: certifi>=2017.4.17 in /usr/local/lib/python3.11/dist-packages (from requests>=2.23.0->ultralytics) (2024.12.14)\n",
            "Requirement already satisfied: filelock in /usr/local/lib/python3.11/dist-packages (from torch>=1.8.0->ultralytics) (3.17.0)\n",
            "Requirement already satisfied: typing-extensions>=4.8.0 in /usr/local/lib/python3.11/dist-packages (from torch>=1.8.0->ultralytics) (4.12.2)\n",
            "Requirement already satisfied: networkx in /usr/local/lib/python3.11/dist-packages (from torch>=1.8.0->ultralytics) (3.4.2)\n",
            "Requirement already satisfied: jinja2 in /usr/local/lib/python3.11/dist-packages (from torch>=1.8.0->ultralytics) (3.1.5)\n",
            "Requirement already satisfied: fsspec in /usr/local/lib/python3.11/dist-packages (from torch>=1.8.0->ultralytics) (2024.10.0)\n",
            "Requirement already satisfied: nvidia-cuda-nvrtc-cu12==12.1.105 in /usr/local/lib/python3.11/dist-packages (from torch>=1.8.0->ultralytics) (12.1.105)\n",
            "Requirement already satisfied: nvidia-cuda-runtime-cu12==12.1.105 in /usr/local/lib/python3.11/dist-packages (from torch>=1.8.0->ultralytics) (12.1.105)\n",
            "Requirement already satisfied: nvidia-cuda-cupti-cu12==12.1.105 in /usr/local/lib/python3.11/dist-packages (from torch>=1.8.0->ultralytics) (12.1.105)\n",
            "Requirement already satisfied: nvidia-cudnn-cu12==9.1.0.70 in /usr/local/lib/python3.11/dist-packages (from torch>=1.8.0->ultralytics) (9.1.0.70)\n",
            "Requirement already satisfied: nvidia-cublas-cu12==12.1.3.1 in /usr/local/lib/python3.11/dist-packages (from torch>=1.8.0->ultralytics) (12.1.3.1)\n",
            "Requirement already satisfied: nvidia-cufft-cu12==11.0.2.54 in /usr/local/lib/python3.11/dist-packages (from torch>=1.8.0->ultralytics) (11.0.2.54)\n",
            "Requirement already satisfied: nvidia-curand-cu12==10.3.2.106 in /usr/local/lib/python3.11/dist-packages (from torch>=1.8.0->ultralytics) (10.3.2.106)\n",
            "Requirement already satisfied: nvidia-cusolver-cu12==11.4.5.107 in /usr/local/lib/python3.11/dist-packages (from torch>=1.8.0->ultralytics) (11.4.5.107)\n",
            "Requirement already satisfied: nvidia-cusparse-cu12==12.1.0.106 in /usr/local/lib/python3.11/dist-packages (from torch>=1.8.0->ultralytics) (12.1.0.106)\n",
            "Requirement already satisfied: nvidia-nccl-cu12==2.21.5 in /usr/local/lib/python3.11/dist-packages (from torch>=1.8.0->ultralytics) (2.21.5)\n",
            "Requirement already satisfied: nvidia-nvtx-cu12==12.1.105 in /usr/local/lib/python3.11/dist-packages (from torch>=1.8.0->ultralytics) (12.1.105)\n",
            "Requirement already satisfied: triton==3.1.0 in /usr/local/lib/python3.11/dist-packages (from torch>=1.8.0->ultralytics) (3.1.0)\n",
            "Requirement already satisfied: sympy==1.13.1 in /usr/local/lib/python3.11/dist-packages (from torch>=1.8.0->ultralytics) (1.13.1)\n",
            "Requirement already satisfied: nvidia-nvjitlink-cu12 in /usr/local/lib/python3.11/dist-packages (from nvidia-cusolver-cu12==11.4.5.107->torch>=1.8.0->ultralytics) (12.6.85)\n",
            "Requirement already satisfied: mpmath<1.4,>=1.1.0 in /usr/local/lib/python3.11/dist-packages (from sympy==1.13.1->torch>=1.8.0->ultralytics) (1.3.0)\n",
            "Requirement already satisfied: six>=1.5 in /usr/local/lib/python3.11/dist-packages (from python-dateutil>=2.7->matplotlib>=3.3.0->ultralytics) (1.17.0)\n",
            "Requirement already satisfied: MarkupSafe>=2.0 in /usr/local/lib/python3.11/dist-packages (from jinja2->torch>=1.8.0->ultralytics) (3.0.2)\n",
            "Downloading ultralytics-8.3.67-py3-none-any.whl (913 kB)\n",
            "\u001b[2K   \u001b[90m━━━━━━━━━━━━━━━━━━━━━━━━━━━━━━━━━━━━━━━━\u001b[0m \u001b[32m913.5/913.5 kB\u001b[0m \u001b[31m36.8 MB/s\u001b[0m eta \u001b[36m0:00:00\u001b[0m\n",
            "\u001b[?25hDownloading ultralytics_thop-2.0.14-py3-none-any.whl (26 kB)\n",
            "Installing collected packages: ultralytics-thop, ultralytics\n",
            "Successfully installed ultralytics-8.3.67 ultralytics-thop-2.0.14\n",
            "PyTorch version: 2.5.1+cu121\n",
            "CUDA available: True\n"
          ]
        }
      ],
      "source": [
        "!nvidia-smi\n",
        "!pip install ultralytics\n",
        "\n",
        "import torch\n",
        "print(\"PyTorch version:\", torch.__version__)\n",
        "print(\"CUDA available:\", torch.cuda.is_available())"
      ]
    },
    {
      "cell_type": "code",
      "source": [
        "from google.colab import drive\n",
        "drive.mount('/content/drive')"
      ],
      "metadata": {
        "colab": {
          "base_uri": "https://localhost:8080/"
        },
        "id": "oO6nAlClcvyn",
        "outputId": "fabae9b5-7b61-44d9-a06d-818ff037aeda"
      },
      "execution_count": null,
      "outputs": [
        {
          "output_type": "stream",
          "name": "stdout",
          "text": [
            "Mounted at /content/drive\n"
          ]
        }
      ]
    },
    {
      "cell_type": "code",
      "source": [
        "from ultralytics import YOLO\n",
        "\n",
        "model = YOLO(\"yolov8n.pt\")\n",
        "model.train(\n",
        "    data=\"/content/drive/MyDrive/datasunset/sun_detection.v18i.yolov8/data.yaml\",\n",
        "    epochs=50,\n",
        "    imgsz=640,\n",
        "    batch=16,\n",
        "    project=\"runs_detect\",\n",
        "    name=\"train_sun\"\n",
        ")\n"
      ],
      "metadata": {
        "colab": {
          "base_uri": "https://localhost:8080/"
        },
        "id": "Bb1k898Pcu5L",
        "outputId": "189d7002-70c8-47f1-c0bb-cf121b673ea4"
      },
      "execution_count": null,
      "outputs": [
        {
          "output_type": "stream",
          "name": "stdout",
          "text": [
            "Creating new Ultralytics Settings v0.0.6 file ✅ \n",
            "View Ultralytics Settings with 'yolo settings' or at '/root/.config/Ultralytics/settings.json'\n",
            "Update Settings with 'yolo settings key=value', i.e. 'yolo settings runs_dir=path/to/dir'. For help see https://docs.ultralytics.com/quickstart/#ultralytics-settings.\n",
            "Downloading https://github.com/ultralytics/assets/releases/download/v8.3.0/yolov8n.pt to 'yolov8n.pt'...\n"
          ]
        },
        {
          "output_type": "stream",
          "name": "stderr",
          "text": [
            "100%|██████████| 6.25M/6.25M [00:00<00:00, 179MB/s]"
          ]
        },
        {
          "output_type": "stream",
          "name": "stdout",
          "text": [
            "Ultralytics 8.3.67 🚀 Python-3.11.11 torch-2.5.1+cu121 CUDA:0 (Tesla T4, 15102MiB)\n"
          ]
        },
        {
          "output_type": "stream",
          "name": "stderr",
          "text": [
            "\n"
          ]
        },
        {
          "output_type": "stream",
          "name": "stdout",
          "text": [
            "\u001b[34m\u001b[1mengine/trainer: \u001b[0mtask=detect, mode=train, model=yolov8n.pt, data=/content/drive/MyDrive/datasunset/sun_detection.v18i.yolov8/data.yaml, epochs=50, time=None, patience=100, batch=16, imgsz=640, save=True, save_period=-1, cache=False, device=None, workers=8, project=runs_detect, name=train_sun, exist_ok=False, pretrained=True, optimizer=auto, verbose=True, seed=0, deterministic=True, single_cls=False, rect=False, cos_lr=False, close_mosaic=10, resume=False, amp=True, fraction=1.0, profile=False, freeze=None, multi_scale=False, overlap_mask=True, mask_ratio=4, dropout=0.0, val=True, split=val, save_json=False, save_hybrid=False, conf=None, iou=0.7, max_det=300, half=False, dnn=False, plots=True, source=None, vid_stride=1, stream_buffer=False, visualize=False, augment=False, agnostic_nms=False, classes=None, retina_masks=False, embed=None, show=False, save_frames=False, save_txt=False, save_conf=False, save_crop=False, show_labels=True, show_conf=True, show_boxes=True, line_width=None, format=torchscript, keras=False, optimize=False, int8=False, dynamic=False, simplify=True, opset=None, workspace=None, nms=False, lr0=0.01, lrf=0.01, momentum=0.937, weight_decay=0.0005, warmup_epochs=3.0, warmup_momentum=0.8, warmup_bias_lr=0.1, box=7.5, cls=0.5, dfl=1.5, pose=12.0, kobj=1.0, nbs=64, hsv_h=0.015, hsv_s=0.7, hsv_v=0.4, degrees=0.0, translate=0.1, scale=0.5, shear=0.0, perspective=0.0, flipud=0.0, fliplr=0.5, bgr=0.0, mosaic=1.0, mixup=0.0, copy_paste=0.0, copy_paste_mode=flip, auto_augment=randaugment, erasing=0.4, crop_fraction=1.0, cfg=None, tracker=botsort.yaml, save_dir=runs_detect/train_sun\n",
            "Downloading https://ultralytics.com/assets/Arial.ttf to '/root/.config/Ultralytics/Arial.ttf'...\n"
          ]
        },
        {
          "output_type": "stream",
          "name": "stderr",
          "text": [
            "100%|██████████| 755k/755k [00:00<00:00, 44.0MB/s]\n"
          ]
        },
        {
          "output_type": "stream",
          "name": "stdout",
          "text": [
            "Overriding model.yaml nc=80 with nc=1\n",
            "\n",
            "                   from  n    params  module                                       arguments                     \n",
            "  0                  -1  1       464  ultralytics.nn.modules.conv.Conv             [3, 16, 3, 2]                 \n",
            "  1                  -1  1      4672  ultralytics.nn.modules.conv.Conv             [16, 32, 3, 2]                \n",
            "  2                  -1  1      7360  ultralytics.nn.modules.block.C2f             [32, 32, 1, True]             \n",
            "  3                  -1  1     18560  ultralytics.nn.modules.conv.Conv             [32, 64, 3, 2]                \n",
            "  4                  -1  2     49664  ultralytics.nn.modules.block.C2f             [64, 64, 2, True]             \n",
            "  5                  -1  1     73984  ultralytics.nn.modules.conv.Conv             [64, 128, 3, 2]               \n",
            "  6                  -1  2    197632  ultralytics.nn.modules.block.C2f             [128, 128, 2, True]           \n",
            "  7                  -1  1    295424  ultralytics.nn.modules.conv.Conv             [128, 256, 3, 2]              \n",
            "  8                  -1  1    460288  ultralytics.nn.modules.block.C2f             [256, 256, 1, True]           \n",
            "  9                  -1  1    164608  ultralytics.nn.modules.block.SPPF            [256, 256, 5]                 \n",
            " 10                  -1  1         0  torch.nn.modules.upsampling.Upsample         [None, 2, 'nearest']          \n",
            " 11             [-1, 6]  1         0  ultralytics.nn.modules.conv.Concat           [1]                           \n",
            " 12                  -1  1    148224  ultralytics.nn.modules.block.C2f             [384, 128, 1]                 \n",
            " 13                  -1  1         0  torch.nn.modules.upsampling.Upsample         [None, 2, 'nearest']          \n",
            " 14             [-1, 4]  1         0  ultralytics.nn.modules.conv.Concat           [1]                           \n",
            " 15                  -1  1     37248  ultralytics.nn.modules.block.C2f             [192, 64, 1]                  \n",
            " 16                  -1  1     36992  ultralytics.nn.modules.conv.Conv             [64, 64, 3, 2]                \n",
            " 17            [-1, 12]  1         0  ultralytics.nn.modules.conv.Concat           [1]                           \n",
            " 18                  -1  1    123648  ultralytics.nn.modules.block.C2f             [192, 128, 1]                 \n",
            " 19                  -1  1    147712  ultralytics.nn.modules.conv.Conv             [128, 128, 3, 2]              \n",
            " 20             [-1, 9]  1         0  ultralytics.nn.modules.conv.Concat           [1]                           \n",
            " 21                  -1  1    493056  ultralytics.nn.modules.block.C2f             [384, 256, 1]                 \n",
            " 22        [15, 18, 21]  1    751507  ultralytics.nn.modules.head.Detect           [1, [64, 128, 256]]           \n",
            "Model summary: 225 layers, 3,011,043 parameters, 3,011,027 gradients, 8.2 GFLOPs\n",
            "\n",
            "Transferred 319/355 items from pretrained weights\n",
            "\u001b[34m\u001b[1mTensorBoard: \u001b[0mStart with 'tensorboard --logdir runs_detect/train_sun', view at http://localhost:6006/\n",
            "Freezing layer 'model.22.dfl.conv.weight'\n",
            "\u001b[34m\u001b[1mAMP: \u001b[0mrunning Automatic Mixed Precision (AMP) checks...\n",
            "Downloading https://github.com/ultralytics/assets/releases/download/v8.3.0/yolo11n.pt to 'yolo11n.pt'...\n"
          ]
        },
        {
          "output_type": "stream",
          "name": "stderr",
          "text": [
            "100%|██████████| 5.35M/5.35M [00:00<00:00, 167MB/s]\n"
          ]
        },
        {
          "output_type": "stream",
          "name": "stdout",
          "text": [
            "\u001b[34m\u001b[1mAMP: \u001b[0mchecks passed ✅\n"
          ]
        },
        {
          "output_type": "stream",
          "name": "stderr",
          "text": [
            "\u001b[34m\u001b[1mtrain: \u001b[0mScanning /content/drive/.shortcut-targets-by-id/1h60WKS6VVMXA_zDpGpNCuFkQdqQQ82wA/datasunset/sun_detection.v18i.yolov8/train/labels... 2110 images, 34 backgrounds, 0 corrupt: 100%|██████████| 2110/2110 [21:08<00:00,  1.66it/s]\n"
          ]
        },
        {
          "output_type": "stream",
          "name": "stdout",
          "text": [
            "\u001b[34m\u001b[1mtrain: \u001b[0mNew cache created: /content/drive/.shortcut-targets-by-id/1h60WKS6VVMXA_zDpGpNCuFkQdqQQ82wA/datasunset/sun_detection.v18i.yolov8/train/labels.cache\n",
            "\u001b[34m\u001b[1malbumentations: \u001b[0mBlur(p=0.01, blur_limit=(3, 7)), MedianBlur(p=0.01, blur_limit=(3, 7)), ToGray(p=0.01, num_output_channels=3, method='weighted_average'), CLAHE(p=0.01, clip_limit=(1.0, 4.0), tile_grid_size=(8, 8))\n"
          ]
        },
        {
          "output_type": "stream",
          "name": "stderr",
          "text": [
            "/usr/local/lib/python3.11/dist-packages/albumentations/__init__.py:24: UserWarning: A new version of Albumentations is available: 2.0.1 (you have 1.4.20). Upgrade using: pip install -U albumentations. To disable automatic update checks, set the environment variable NO_ALBUMENTATIONS_UPDATE to 1.\n",
            "  check_for_updates()\n",
            "\u001b[34m\u001b[1mval: \u001b[0mScanning /content/drive/.shortcut-targets-by-id/1h60WKS6VVMXA_zDpGpNCuFkQdqQQ82wA/datasunset/sun_detection.v18i.yolov8/valid/labels... 347 images, 5 backgrounds, 0 corrupt: 100%|██████████| 347/347 [03:29<00:00,  1.66it/s]\n"
          ]
        },
        {
          "output_type": "stream",
          "name": "stdout",
          "text": [
            "\u001b[34m\u001b[1mval: \u001b[0mNew cache created: /content/drive/.shortcut-targets-by-id/1h60WKS6VVMXA_zDpGpNCuFkQdqQQ82wA/datasunset/sun_detection.v18i.yolov8/valid/labels.cache\n",
            "Plotting labels to runs_detect/train_sun/labels.jpg... \n",
            "\u001b[34m\u001b[1moptimizer:\u001b[0m 'optimizer=auto' found, ignoring 'lr0=0.01' and 'momentum=0.937' and determining best 'optimizer', 'lr0' and 'momentum' automatically... \n",
            "\u001b[34m\u001b[1moptimizer:\u001b[0m AdamW(lr=0.002, momentum=0.9) with parameter groups 57 weight(decay=0.0), 64 weight(decay=0.0005), 63 bias(decay=0.0)\n",
            "\u001b[34m\u001b[1mTensorBoard: \u001b[0mmodel graph visualization added ✅\n",
            "Image sizes 640 train, 640 val\n",
            "Using 2 dataloader workers\n",
            "Logging results to \u001b[1mruns_detect/train_sun\u001b[0m\n",
            "Starting training for 50 epochs...\n",
            "\n",
            "      Epoch    GPU_mem   box_loss   cls_loss   dfl_loss  Instances       Size\n"
          ]
        },
        {
          "output_type": "stream",
          "name": "stderr",
          "text": [
            "       1/50      2.16G      1.936      2.909      1.582         19        640: 100%|██████████| 132/132 [01:02<00:00,  2.13it/s]\n",
            "                 Class     Images  Instances      Box(P          R      mAP50  mAP50-95): 100%|██████████| 11/11 [00:05<00:00,  1.88it/s]"
          ]
        },
        {
          "output_type": "stream",
          "name": "stdout",
          "text": [
            "                   all        347        365      0.713      0.608      0.648      0.266\n"
          ]
        },
        {
          "output_type": "stream",
          "name": "stderr",
          "text": [
            "\n"
          ]
        },
        {
          "output_type": "stream",
          "name": "stdout",
          "text": [
            "\n",
            "      Epoch    GPU_mem   box_loss   cls_loss   dfl_loss  Instances       Size\n"
          ]
        },
        {
          "output_type": "stream",
          "name": "stderr",
          "text": [
            "       2/50      2.14G      1.904      2.043      1.552         25        640: 100%|██████████| 132/132 [01:03<00:00,  2.09it/s]\n",
            "                 Class     Images  Instances      Box(P          R      mAP50  mAP50-95): 100%|██████████| 11/11 [00:06<00:00,  1.71it/s]"
          ]
        },
        {
          "output_type": "stream",
          "name": "stdout",
          "text": [
            "                   all        347        365      0.491       0.59      0.512      0.197\n"
          ]
        },
        {
          "output_type": "stream",
          "name": "stderr",
          "text": [
            "\n"
          ]
        },
        {
          "output_type": "stream",
          "name": "stdout",
          "text": [
            "\n",
            "      Epoch    GPU_mem   box_loss   cls_loss   dfl_loss  Instances       Size\n"
          ]
        },
        {
          "output_type": "stream",
          "name": "stderr",
          "text": [
            "       3/50      2.14G      1.902      1.758      1.586         22        640: 100%|██████████| 132/132 [00:58<00:00,  2.26it/s]\n",
            "                 Class     Images  Instances      Box(P          R      mAP50  mAP50-95): 100%|██████████| 11/11 [00:04<00:00,  2.64it/s]\n"
          ]
        },
        {
          "output_type": "stream",
          "name": "stdout",
          "text": [
            "                   all        347        365       0.62      0.625      0.549      0.218\n",
            "\n",
            "      Epoch    GPU_mem   box_loss   cls_loss   dfl_loss  Instances       Size\n"
          ]
        },
        {
          "output_type": "stream",
          "name": "stderr",
          "text": [
            "       4/50      2.14G      1.891      1.627      1.565         26        640: 100%|██████████| 132/132 [01:02<00:00,  2.11it/s]\n",
            "                 Class     Images  Instances      Box(P          R      mAP50  mAP50-95): 100%|██████████| 11/11 [00:07<00:00,  1.40it/s]"
          ]
        },
        {
          "output_type": "stream",
          "name": "stdout",
          "text": [
            "                   all        347        365       0.59      0.414      0.466      0.194\n"
          ]
        },
        {
          "output_type": "stream",
          "name": "stderr",
          "text": [
            "\n"
          ]
        },
        {
          "output_type": "stream",
          "name": "stdout",
          "text": [
            "\n",
            "      Epoch    GPU_mem   box_loss   cls_loss   dfl_loss  Instances       Size\n"
          ]
        },
        {
          "output_type": "stream",
          "name": "stderr",
          "text": [
            "       5/50      2.14G        1.9      1.574      1.577         26        640: 100%|██████████| 132/132 [00:58<00:00,  2.26it/s]\n",
            "                 Class     Images  Instances      Box(P          R      mAP50  mAP50-95): 100%|██████████| 11/11 [00:04<00:00,  2.45it/s]"
          ]
        },
        {
          "output_type": "stream",
          "name": "stdout",
          "text": [
            "                   all        347        365       0.61      0.597      0.652      0.277\n"
          ]
        },
        {
          "output_type": "stream",
          "name": "stderr",
          "text": [
            "\n"
          ]
        },
        {
          "output_type": "stream",
          "name": "stdout",
          "text": [
            "\n",
            "      Epoch    GPU_mem   box_loss   cls_loss   dfl_loss  Instances       Size\n"
          ]
        },
        {
          "output_type": "stream",
          "name": "stderr",
          "text": [
            "       6/50      2.14G      1.828      1.523      1.537         21        640: 100%|██████████| 132/132 [01:01<00:00,  2.14it/s]\n",
            "                 Class     Images  Instances      Box(P          R      mAP50  mAP50-95): 100%|██████████| 11/11 [00:05<00:00,  1.93it/s]"
          ]
        },
        {
          "output_type": "stream",
          "name": "stdout",
          "text": [
            "                   all        347        365      0.663      0.633      0.674      0.271\n"
          ]
        },
        {
          "output_type": "stream",
          "name": "stderr",
          "text": [
            "\n"
          ]
        },
        {
          "output_type": "stream",
          "name": "stdout",
          "text": [
            "\n",
            "      Epoch    GPU_mem   box_loss   cls_loss   dfl_loss  Instances       Size\n"
          ]
        },
        {
          "output_type": "stream",
          "name": "stderr",
          "text": [
            "       7/50      2.14G      1.843      1.505      1.514         27        640: 100%|██████████| 132/132 [00:58<00:00,  2.27it/s]\n",
            "                 Class     Images  Instances      Box(P          R      mAP50  mAP50-95): 100%|██████████| 11/11 [00:05<00:00,  1.96it/s]"
          ]
        },
        {
          "output_type": "stream",
          "name": "stdout",
          "text": [
            "                   all        347        365      0.676      0.671      0.706      0.304\n"
          ]
        },
        {
          "output_type": "stream",
          "name": "stderr",
          "text": [
            "\n"
          ]
        },
        {
          "output_type": "stream",
          "name": "stdout",
          "text": [
            "\n",
            "      Epoch    GPU_mem   box_loss   cls_loss   dfl_loss  Instances       Size\n"
          ]
        },
        {
          "output_type": "stream",
          "name": "stderr",
          "text": [
            "       8/50      2.14G      1.825      1.435      1.531         28        640: 100%|██████████| 132/132 [00:59<00:00,  2.22it/s]\n",
            "                 Class     Images  Instances      Box(P          R      mAP50  mAP50-95): 100%|██████████| 11/11 [00:06<00:00,  1.58it/s]"
          ]
        },
        {
          "output_type": "stream",
          "name": "stdout",
          "text": [
            "                   all        347        365      0.622       0.56      0.611      0.265\n"
          ]
        },
        {
          "output_type": "stream",
          "name": "stderr",
          "text": [
            "\n"
          ]
        },
        {
          "output_type": "stream",
          "name": "stdout",
          "text": [
            "\n",
            "      Epoch    GPU_mem   box_loss   cls_loss   dfl_loss  Instances       Size\n"
          ]
        },
        {
          "output_type": "stream",
          "name": "stderr",
          "text": [
            "       9/50      2.14G      1.765      1.407      1.464         31        640: 100%|██████████| 132/132 [00:57<00:00,  2.30it/s]\n",
            "                 Class     Images  Instances      Box(P          R      mAP50  mAP50-95): 100%|██████████| 11/11 [00:06<00:00,  1.74it/s]"
          ]
        },
        {
          "output_type": "stream",
          "name": "stdout",
          "text": [
            "                   all        347        365      0.676      0.682      0.738      0.331\n"
          ]
        },
        {
          "output_type": "stream",
          "name": "stderr",
          "text": [
            "\n"
          ]
        },
        {
          "output_type": "stream",
          "name": "stdout",
          "text": [
            "\n",
            "      Epoch    GPU_mem   box_loss   cls_loss   dfl_loss  Instances       Size\n"
          ]
        },
        {
          "output_type": "stream",
          "name": "stderr",
          "text": [
            "      10/50      2.15G      1.761      1.327      1.472         25        640: 100%|██████████| 132/132 [00:57<00:00,  2.28it/s]\n",
            "                 Class     Images  Instances      Box(P          R      mAP50  mAP50-95): 100%|██████████| 11/11 [00:04<00:00,  2.60it/s]"
          ]
        },
        {
          "output_type": "stream",
          "name": "stdout",
          "text": [
            "                   all        347        365       0.77      0.704      0.792      0.354\n"
          ]
        },
        {
          "output_type": "stream",
          "name": "stderr",
          "text": [
            "\n"
          ]
        },
        {
          "output_type": "stream",
          "name": "stdout",
          "text": [
            "\n",
            "      Epoch    GPU_mem   box_loss   cls_loss   dfl_loss  Instances       Size\n"
          ]
        },
        {
          "output_type": "stream",
          "name": "stderr",
          "text": [
            "      11/50      2.14G      1.767      1.314      1.469         24        640: 100%|██████████| 132/132 [01:00<00:00,  2.17it/s]\n",
            "                 Class     Images  Instances      Box(P          R      mAP50  mAP50-95): 100%|██████████| 11/11 [00:04<00:00,  2.31it/s]"
          ]
        },
        {
          "output_type": "stream",
          "name": "stdout",
          "text": [
            "                   all        347        365      0.753      0.745      0.776      0.338\n"
          ]
        },
        {
          "output_type": "stream",
          "name": "stderr",
          "text": [
            "\n"
          ]
        },
        {
          "output_type": "stream",
          "name": "stdout",
          "text": [
            "\n",
            "      Epoch    GPU_mem   box_loss   cls_loss   dfl_loss  Instances       Size\n"
          ]
        },
        {
          "output_type": "stream",
          "name": "stderr",
          "text": [
            "      12/50      2.14G      1.776      1.343      1.482         25        640: 100%|██████████| 132/132 [00:58<00:00,  2.28it/s]\n",
            "                 Class     Images  Instances      Box(P          R      mAP50  mAP50-95): 100%|██████████| 11/11 [00:06<00:00,  1.61it/s]"
          ]
        },
        {
          "output_type": "stream",
          "name": "stdout",
          "text": [
            "                   all        347        365      0.832       0.68      0.796      0.363\n"
          ]
        },
        {
          "output_type": "stream",
          "name": "stderr",
          "text": [
            "\n"
          ]
        },
        {
          "output_type": "stream",
          "name": "stdout",
          "text": [
            "\n",
            "      Epoch    GPU_mem   box_loss   cls_loss   dfl_loss  Instances       Size\n"
          ]
        },
        {
          "output_type": "stream",
          "name": "stderr",
          "text": [
            "      13/50      2.14G      1.758      1.305      1.494         22        640: 100%|██████████| 132/132 [01:01<00:00,  2.13it/s]\n",
            "                 Class     Images  Instances      Box(P          R      mAP50  mAP50-95): 100%|██████████| 11/11 [00:03<00:00,  2.75it/s]"
          ]
        },
        {
          "output_type": "stream",
          "name": "stdout",
          "text": [
            "                   all        347        365      0.705      0.707       0.74      0.316\n"
          ]
        },
        {
          "output_type": "stream",
          "name": "stderr",
          "text": [
            "\n"
          ]
        },
        {
          "output_type": "stream",
          "name": "stdout",
          "text": [
            "\n",
            "      Epoch    GPU_mem   box_loss   cls_loss   dfl_loss  Instances       Size\n"
          ]
        },
        {
          "output_type": "stream",
          "name": "stderr",
          "text": [
            "      14/50      2.14G      1.766      1.322       1.48         25        640: 100%|██████████| 132/132 [00:58<00:00,  2.27it/s]\n",
            "                 Class     Images  Instances      Box(P          R      mAP50  mAP50-95): 100%|██████████| 11/11 [00:06<00:00,  1.81it/s]"
          ]
        },
        {
          "output_type": "stream",
          "name": "stdout",
          "text": [
            "                   all        347        365      0.665      0.677      0.709      0.282\n"
          ]
        },
        {
          "output_type": "stream",
          "name": "stderr",
          "text": [
            "\n"
          ]
        },
        {
          "output_type": "stream",
          "name": "stdout",
          "text": [
            "\n",
            "      Epoch    GPU_mem   box_loss   cls_loss   dfl_loss  Instances       Size\n"
          ]
        },
        {
          "output_type": "stream",
          "name": "stderr",
          "text": [
            "      15/50      2.14G      1.759      1.327      1.479         25        640: 100%|██████████| 132/132 [01:00<00:00,  2.17it/s]\n",
            "                 Class     Images  Instances      Box(P          R      mAP50  mAP50-95): 100%|██████████| 11/11 [00:05<00:00,  2.17it/s]"
          ]
        },
        {
          "output_type": "stream",
          "name": "stdout",
          "text": [
            "                   all        347        365      0.756      0.707      0.758      0.309\n"
          ]
        },
        {
          "output_type": "stream",
          "name": "stderr",
          "text": [
            "\n"
          ]
        },
        {
          "output_type": "stream",
          "name": "stdout",
          "text": [
            "\n",
            "      Epoch    GPU_mem   box_loss   cls_loss   dfl_loss  Instances       Size\n"
          ]
        },
        {
          "output_type": "stream",
          "name": "stderr",
          "text": [
            "      16/50      2.14G      1.719      1.251      1.449         32        640: 100%|██████████| 132/132 [00:57<00:00,  2.29it/s]\n",
            "                 Class     Images  Instances      Box(P          R      mAP50  mAP50-95): 100%|██████████| 11/11 [00:04<00:00,  2.57it/s]"
          ]
        },
        {
          "output_type": "stream",
          "name": "stdout",
          "text": [
            "                   all        347        365      0.809      0.737      0.787      0.358\n"
          ]
        },
        {
          "output_type": "stream",
          "name": "stderr",
          "text": [
            "\n"
          ]
        },
        {
          "output_type": "stream",
          "name": "stdout",
          "text": [
            "\n",
            "      Epoch    GPU_mem   box_loss   cls_loss   dfl_loss  Instances       Size\n"
          ]
        },
        {
          "output_type": "stream",
          "name": "stderr",
          "text": [
            "      17/50      2.14G      1.736      1.246      1.461         18        640: 100%|██████████| 132/132 [00:59<00:00,  2.22it/s]\n",
            "                 Class     Images  Instances      Box(P          R      mAP50  mAP50-95): 100%|██████████| 11/11 [00:07<00:00,  1.46it/s]"
          ]
        },
        {
          "output_type": "stream",
          "name": "stdout",
          "text": [
            "                   all        347        365      0.823      0.778      0.816       0.37\n"
          ]
        },
        {
          "output_type": "stream",
          "name": "stderr",
          "text": [
            "\n"
          ]
        },
        {
          "output_type": "stream",
          "name": "stdout",
          "text": [
            "\n",
            "      Epoch    GPU_mem   box_loss   cls_loss   dfl_loss  Instances       Size\n"
          ]
        },
        {
          "output_type": "stream",
          "name": "stderr",
          "text": [
            "      18/50      2.14G      1.701      1.231      1.439         18        640: 100%|██████████| 132/132 [00:57<00:00,  2.29it/s]\n",
            "                 Class     Images  Instances      Box(P          R      mAP50  mAP50-95): 100%|██████████| 11/11 [00:04<00:00,  2.60it/s]"
          ]
        },
        {
          "output_type": "stream",
          "name": "stdout",
          "text": [
            "                   all        347        365      0.716      0.762      0.792      0.363\n"
          ]
        },
        {
          "output_type": "stream",
          "name": "stderr",
          "text": [
            "\n"
          ]
        },
        {
          "output_type": "stream",
          "name": "stdout",
          "text": [
            "\n",
            "      Epoch    GPU_mem   box_loss   cls_loss   dfl_loss  Instances       Size\n"
          ]
        },
        {
          "output_type": "stream",
          "name": "stderr",
          "text": [
            "      19/50      2.14G       1.68       1.21      1.431         32        640: 100%|██████████| 132/132 [01:00<00:00,  2.17it/s]\n",
            "                 Class     Images  Instances      Box(P          R      mAP50  mAP50-95): 100%|██████████| 11/11 [00:04<00:00,  2.25it/s]"
          ]
        },
        {
          "output_type": "stream",
          "name": "stdout",
          "text": [
            "                   all        347        365      0.791      0.767      0.805      0.357\n"
          ]
        },
        {
          "output_type": "stream",
          "name": "stderr",
          "text": [
            "\n"
          ]
        },
        {
          "output_type": "stream",
          "name": "stdout",
          "text": [
            "\n",
            "      Epoch    GPU_mem   box_loss   cls_loss   dfl_loss  Instances       Size\n"
          ]
        },
        {
          "output_type": "stream",
          "name": "stderr",
          "text": [
            "      20/50      2.16G      1.695      1.205      1.438         16        640: 100%|██████████| 132/132 [00:57<00:00,  2.29it/s]\n",
            "                 Class     Images  Instances      Box(P          R      mAP50  mAP50-95): 100%|██████████| 11/11 [00:06<00:00,  1.64it/s]"
          ]
        },
        {
          "output_type": "stream",
          "name": "stdout",
          "text": [
            "                   all        347        365      0.802      0.766      0.838      0.398\n"
          ]
        },
        {
          "output_type": "stream",
          "name": "stderr",
          "text": [
            "\n"
          ]
        },
        {
          "output_type": "stream",
          "name": "stdout",
          "text": [
            "\n",
            "      Epoch    GPU_mem   box_loss   cls_loss   dfl_loss  Instances       Size\n"
          ]
        },
        {
          "output_type": "stream",
          "name": "stderr",
          "text": [
            "      21/50      2.15G      1.691      1.194      1.442         22        640: 100%|██████████| 132/132 [01:03<00:00,  2.08it/s]\n",
            "                 Class     Images  Instances      Box(P          R      mAP50  mAP50-95): 100%|██████████| 11/11 [00:04<00:00,  2.74it/s]"
          ]
        },
        {
          "output_type": "stream",
          "name": "stdout",
          "text": [
            "                   all        347        365       0.78      0.753      0.802      0.357\n"
          ]
        },
        {
          "output_type": "stream",
          "name": "stderr",
          "text": [
            "\n"
          ]
        },
        {
          "output_type": "stream",
          "name": "stdout",
          "text": [
            "\n",
            "      Epoch    GPU_mem   box_loss   cls_loss   dfl_loss  Instances       Size\n"
          ]
        },
        {
          "output_type": "stream",
          "name": "stderr",
          "text": [
            "      22/50      2.14G      1.675      1.171      1.443         20        640: 100%|██████████| 132/132 [00:57<00:00,  2.31it/s]\n",
            "                 Class     Images  Instances      Box(P          R      mAP50  mAP50-95): 100%|██████████| 11/11 [00:06<00:00,  1.74it/s]"
          ]
        },
        {
          "output_type": "stream",
          "name": "stdout",
          "text": [
            "                   all        347        365      0.779      0.794      0.837      0.403\n"
          ]
        },
        {
          "output_type": "stream",
          "name": "stderr",
          "text": [
            "\n"
          ]
        },
        {
          "output_type": "stream",
          "name": "stdout",
          "text": [
            "\n",
            "      Epoch    GPU_mem   box_loss   cls_loss   dfl_loss  Instances       Size\n"
          ]
        },
        {
          "output_type": "stream",
          "name": "stderr",
          "text": [
            "      23/50      2.14G      1.647      1.138      1.408         25        640: 100%|██████████| 132/132 [01:02<00:00,  2.11it/s]\n",
            "                 Class     Images  Instances      Box(P          R      mAP50  mAP50-95): 100%|██████████| 11/11 [00:04<00:00,  2.59it/s]"
          ]
        },
        {
          "output_type": "stream",
          "name": "stdout",
          "text": [
            "                   all        347        365      0.849      0.753      0.851      0.395\n"
          ]
        },
        {
          "output_type": "stream",
          "name": "stderr",
          "text": [
            "\n"
          ]
        },
        {
          "output_type": "stream",
          "name": "stdout",
          "text": [
            "\n",
            "      Epoch    GPU_mem   box_loss   cls_loss   dfl_loss  Instances       Size\n"
          ]
        },
        {
          "output_type": "stream",
          "name": "stderr",
          "text": [
            "      24/50      2.14G      1.671      1.139      1.422         19        640: 100%|██████████| 132/132 [00:57<00:00,  2.29it/s]\n",
            "                 Class     Images  Instances      Box(P          R      mAP50  mAP50-95): 100%|██████████| 11/11 [00:06<00:00,  1.63it/s]"
          ]
        },
        {
          "output_type": "stream",
          "name": "stdout",
          "text": [
            "                   all        347        365      0.796      0.784       0.83      0.373\n"
          ]
        },
        {
          "output_type": "stream",
          "name": "stderr",
          "text": [
            "\n"
          ]
        },
        {
          "output_type": "stream",
          "name": "stdout",
          "text": [
            "\n",
            "      Epoch    GPU_mem   box_loss   cls_loss   dfl_loss  Instances       Size\n"
          ]
        },
        {
          "output_type": "stream",
          "name": "stderr",
          "text": [
            "      25/50      2.15G      1.631      1.122      1.399         20        640: 100%|██████████| 132/132 [01:00<00:00,  2.19it/s]\n",
            "                 Class     Images  Instances      Box(P          R      mAP50  mAP50-95): 100%|██████████| 11/11 [00:05<00:00,  2.02it/s]"
          ]
        },
        {
          "output_type": "stream",
          "name": "stdout",
          "text": [
            "                   all        347        365      0.831      0.803      0.846      0.384\n"
          ]
        },
        {
          "output_type": "stream",
          "name": "stderr",
          "text": [
            "\n"
          ]
        },
        {
          "output_type": "stream",
          "name": "stdout",
          "text": [
            "\n",
            "      Epoch    GPU_mem   box_loss   cls_loss   dfl_loss  Instances       Size\n"
          ]
        },
        {
          "output_type": "stream",
          "name": "stderr",
          "text": [
            "      26/50      2.14G      1.617      1.081      1.396         30        640: 100%|██████████| 132/132 [01:00<00:00,  2.18it/s]\n",
            "                 Class     Images  Instances      Box(P          R      mAP50  mAP50-95): 100%|██████████| 11/11 [00:04<00:00,  2.66it/s]"
          ]
        },
        {
          "output_type": "stream",
          "name": "stdout",
          "text": [
            "                   all        347        365       0.84      0.748      0.836      0.392\n"
          ]
        },
        {
          "output_type": "stream",
          "name": "stderr",
          "text": [
            "\n"
          ]
        },
        {
          "output_type": "stream",
          "name": "stdout",
          "text": [
            "\n",
            "      Epoch    GPU_mem   box_loss   cls_loss   dfl_loss  Instances       Size\n"
          ]
        },
        {
          "output_type": "stream",
          "name": "stderr",
          "text": [
            "      27/50      2.14G      1.622      1.106      1.394         24        640: 100%|██████████| 132/132 [00:57<00:00,  2.28it/s]\n",
            "                 Class     Images  Instances      Box(P          R      mAP50  mAP50-95): 100%|██████████| 11/11 [00:07<00:00,  1.39it/s]"
          ]
        },
        {
          "output_type": "stream",
          "name": "stdout",
          "text": [
            "                   all        347        365      0.785      0.819      0.844      0.388\n"
          ]
        },
        {
          "output_type": "stream",
          "name": "stderr",
          "text": [
            "\n"
          ]
        },
        {
          "output_type": "stream",
          "name": "stdout",
          "text": [
            "\n",
            "      Epoch    GPU_mem   box_loss   cls_loss   dfl_loss  Instances       Size\n"
          ]
        },
        {
          "output_type": "stream",
          "name": "stderr",
          "text": [
            "      28/50      2.14G      1.659      1.125      1.408         18        640: 100%|██████████| 132/132 [00:57<00:00,  2.28it/s]\n",
            "                 Class     Images  Instances      Box(P          R      mAP50  mAP50-95): 100%|██████████| 11/11 [00:05<00:00,  1.85it/s]"
          ]
        },
        {
          "output_type": "stream",
          "name": "stdout",
          "text": [
            "                   all        347        365      0.785      0.791       0.84        0.4\n"
          ]
        },
        {
          "output_type": "stream",
          "name": "stderr",
          "text": [
            "\n"
          ]
        },
        {
          "output_type": "stream",
          "name": "stdout",
          "text": [
            "\n",
            "      Epoch    GPU_mem   box_loss   cls_loss   dfl_loss  Instances       Size\n"
          ]
        },
        {
          "output_type": "stream",
          "name": "stderr",
          "text": [
            "      29/50      2.14G      1.611      1.094      1.383         27        640: 100%|██████████| 132/132 [00:57<00:00,  2.28it/s]\n",
            "                 Class     Images  Instances      Box(P          R      mAP50  mAP50-95): 100%|██████████| 11/11 [00:03<00:00,  2.76it/s]\n"
          ]
        },
        {
          "output_type": "stream",
          "name": "stdout",
          "text": [
            "                   all        347        365      0.855       0.83      0.883      0.418\n",
            "\n",
            "      Epoch    GPU_mem   box_loss   cls_loss   dfl_loss  Instances       Size\n"
          ]
        },
        {
          "output_type": "stream",
          "name": "stderr",
          "text": [
            "      30/50      2.14G      1.631      1.073      1.382         33        640: 100%|██████████| 132/132 [01:01<00:00,  2.16it/s]\n",
            "                 Class     Images  Instances      Box(P          R      mAP50  mAP50-95): 100%|██████████| 11/11 [00:05<00:00,  1.99it/s]"
          ]
        },
        {
          "output_type": "stream",
          "name": "stdout",
          "text": [
            "                   all        347        365      0.787      0.805      0.862      0.411\n"
          ]
        },
        {
          "output_type": "stream",
          "name": "stderr",
          "text": [
            "\n"
          ]
        },
        {
          "output_type": "stream",
          "name": "stdout",
          "text": [
            "\n",
            "      Epoch    GPU_mem   box_loss   cls_loss   dfl_loss  Instances       Size\n"
          ]
        },
        {
          "output_type": "stream",
          "name": "stderr",
          "text": [
            "      31/50      2.15G      1.599      1.063      1.382         23        640: 100%|██████████| 132/132 [00:57<00:00,  2.28it/s]\n",
            "                 Class     Images  Instances      Box(P          R      mAP50  mAP50-95): 100%|██████████| 11/11 [00:05<00:00,  1.83it/s]"
          ]
        },
        {
          "output_type": "stream",
          "name": "stdout",
          "text": [
            "                   all        347        365      0.851      0.832      0.883      0.429\n"
          ]
        },
        {
          "output_type": "stream",
          "name": "stderr",
          "text": [
            "\n"
          ]
        },
        {
          "output_type": "stream",
          "name": "stdout",
          "text": [
            "\n",
            "      Epoch    GPU_mem   box_loss   cls_loss   dfl_loss  Instances       Size\n"
          ]
        },
        {
          "output_type": "stream",
          "name": "stderr",
          "text": [
            "      32/50      2.15G      1.589      1.027      1.374         24        640: 100%|██████████| 132/132 [01:01<00:00,  2.15it/s]\n",
            "                 Class     Images  Instances      Box(P          R      mAP50  mAP50-95): 100%|██████████| 11/11 [00:04<00:00,  2.72it/s]"
          ]
        },
        {
          "output_type": "stream",
          "name": "stdout",
          "text": [
            "                   all        347        365      0.857      0.844      0.878      0.405\n"
          ]
        },
        {
          "output_type": "stream",
          "name": "stderr",
          "text": [
            "\n"
          ]
        },
        {
          "output_type": "stream",
          "name": "stdout",
          "text": [
            "\n",
            "      Epoch    GPU_mem   box_loss   cls_loss   dfl_loss  Instances       Size\n"
          ]
        },
        {
          "output_type": "stream",
          "name": "stderr",
          "text": [
            "      33/50      2.15G      1.575      1.046      1.359         22        640: 100%|██████████| 132/132 [00:57<00:00,  2.28it/s]\n",
            "                 Class     Images  Instances      Box(P          R      mAP50  mAP50-95): 100%|██████████| 11/11 [00:04<00:00,  2.48it/s]"
          ]
        },
        {
          "output_type": "stream",
          "name": "stdout",
          "text": [
            "                   all        347        365      0.842      0.789      0.854      0.402\n"
          ]
        },
        {
          "output_type": "stream",
          "name": "stderr",
          "text": [
            "\n"
          ]
        },
        {
          "output_type": "stream",
          "name": "stdout",
          "text": [
            "\n",
            "      Epoch    GPU_mem   box_loss   cls_loss   dfl_loss  Instances       Size\n"
          ]
        },
        {
          "output_type": "stream",
          "name": "stderr",
          "text": [
            "      34/50      2.15G      1.564      0.984      1.349         26        640: 100%|██████████| 132/132 [01:01<00:00,  2.13it/s]\n",
            "                 Class     Images  Instances      Box(P          R      mAP50  mAP50-95): 100%|██████████| 11/11 [00:07<00:00,  1.51it/s]"
          ]
        },
        {
          "output_type": "stream",
          "name": "stdout",
          "text": [
            "                   all        347        365      0.874      0.849      0.898       0.44\n"
          ]
        },
        {
          "output_type": "stream",
          "name": "stderr",
          "text": [
            "\n"
          ]
        },
        {
          "output_type": "stream",
          "name": "stdout",
          "text": [
            "\n",
            "      Epoch    GPU_mem   box_loss   cls_loss   dfl_loss  Instances       Size\n"
          ]
        },
        {
          "output_type": "stream",
          "name": "stderr",
          "text": [
            "      35/50      2.14G      1.562     0.9934      1.348         20        640: 100%|██████████| 132/132 [00:57<00:00,  2.28it/s]\n",
            "                 Class     Images  Instances      Box(P          R      mAP50  mAP50-95): 100%|██████████| 11/11 [00:03<00:00,  2.78it/s]\n"
          ]
        },
        {
          "output_type": "stream",
          "name": "stdout",
          "text": [
            "                   all        347        365      0.883      0.836      0.894      0.432\n",
            "\n",
            "      Epoch    GPU_mem   box_loss   cls_loss   dfl_loss  Instances       Size\n"
          ]
        },
        {
          "output_type": "stream",
          "name": "stderr",
          "text": [
            "      36/50      2.14G       1.56     0.9822      1.339         24        640: 100%|██████████| 132/132 [01:02<00:00,  2.13it/s]\n",
            "                 Class     Images  Instances      Box(P          R      mAP50  mAP50-95): 100%|██████████| 11/11 [00:06<00:00,  1.62it/s]"
          ]
        },
        {
          "output_type": "stream",
          "name": "stdout",
          "text": [
            "                   all        347        365      0.868       0.85      0.897      0.428\n"
          ]
        },
        {
          "output_type": "stream",
          "name": "stderr",
          "text": [
            "\n"
          ]
        },
        {
          "output_type": "stream",
          "name": "stdout",
          "text": [
            "\n",
            "      Epoch    GPU_mem   box_loss   cls_loss   dfl_loss  Instances       Size\n"
          ]
        },
        {
          "output_type": "stream",
          "name": "stderr",
          "text": [
            "      37/50      2.14G      1.547     0.9977      1.359         27        640: 100%|██████████| 132/132 [00:57<00:00,  2.29it/s]\n",
            "                 Class     Images  Instances      Box(P          R      mAP50  mAP50-95): 100%|██████████| 11/11 [00:04<00:00,  2.34it/s]"
          ]
        },
        {
          "output_type": "stream",
          "name": "stdout",
          "text": [
            "                   all        347        365      0.868      0.838      0.892      0.435\n"
          ]
        },
        {
          "output_type": "stream",
          "name": "stderr",
          "text": [
            "\n"
          ]
        },
        {
          "output_type": "stream",
          "name": "stdout",
          "text": [
            "\n",
            "      Epoch    GPU_mem   box_loss   cls_loss   dfl_loss  Instances       Size\n"
          ]
        },
        {
          "output_type": "stream",
          "name": "stderr",
          "text": [
            "      38/50      2.14G      1.536     0.9936      1.366         21        640: 100%|██████████| 132/132 [01:01<00:00,  2.14it/s]\n",
            "                 Class     Images  Instances      Box(P          R      mAP50  mAP50-95): 100%|██████████| 11/11 [00:05<00:00,  2.06it/s]"
          ]
        },
        {
          "output_type": "stream",
          "name": "stdout",
          "text": [
            "                   all        347        365      0.879      0.819      0.886       0.41\n"
          ]
        },
        {
          "output_type": "stream",
          "name": "stderr",
          "text": [
            "\n"
          ]
        },
        {
          "output_type": "stream",
          "name": "stdout",
          "text": [
            "\n",
            "      Epoch    GPU_mem   box_loss   cls_loss   dfl_loss  Instances       Size\n"
          ]
        },
        {
          "output_type": "stream",
          "name": "stderr",
          "text": [
            "      39/50      2.14G      1.534     0.9599      1.341         24        640: 100%|██████████| 132/132 [00:57<00:00,  2.28it/s]\n",
            "                 Class     Images  Instances      Box(P          R      mAP50  mAP50-95): 100%|██████████| 11/11 [00:07<00:00,  1.52it/s]"
          ]
        },
        {
          "output_type": "stream",
          "name": "stdout",
          "text": [
            "                   all        347        365      0.889      0.866      0.892      0.407\n"
          ]
        },
        {
          "output_type": "stream",
          "name": "stderr",
          "text": [
            "\n"
          ]
        },
        {
          "output_type": "stream",
          "name": "stdout",
          "text": [
            "\n",
            "      Epoch    GPU_mem   box_loss   cls_loss   dfl_loss  Instances       Size\n"
          ]
        },
        {
          "output_type": "stream",
          "name": "stderr",
          "text": [
            "      40/50      2.14G      1.519     0.9281       1.33         24        640: 100%|██████████| 132/132 [00:59<00:00,  2.22it/s]\n",
            "                 Class     Images  Instances      Box(P          R      mAP50  mAP50-95): 100%|██████████| 11/11 [00:04<00:00,  2.51it/s]"
          ]
        },
        {
          "output_type": "stream",
          "name": "stdout",
          "text": [
            "                   all        347        365      0.889      0.844        0.9      0.436\n"
          ]
        },
        {
          "output_type": "stream",
          "name": "stderr",
          "text": [
            "\n"
          ]
        },
        {
          "output_type": "stream",
          "name": "stdout",
          "text": [
            "Closing dataloader mosaic\n",
            "\u001b[34m\u001b[1malbumentations: \u001b[0mBlur(p=0.01, blur_limit=(3, 7)), MedianBlur(p=0.01, blur_limit=(3, 7)), ToGray(p=0.01, num_output_channels=3, method='weighted_average'), CLAHE(p=0.01, clip_limit=(1.0, 4.0), tile_grid_size=(8, 8))\n",
            "\n",
            "      Epoch    GPU_mem   box_loss   cls_loss   dfl_loss  Instances       Size\n"
          ]
        },
        {
          "output_type": "stream",
          "name": "stderr",
          "text": [
            "      41/50      2.14G        1.5     0.8966       1.36         15        640: 100%|██████████| 132/132 [00:59<00:00,  2.23it/s]\n",
            "                 Class     Images  Instances      Box(P          R      mAP50  mAP50-95): 100%|██████████| 11/11 [00:04<00:00,  2.60it/s]"
          ]
        },
        {
          "output_type": "stream",
          "name": "stdout",
          "text": [
            "                   all        347        365      0.878      0.811       0.89      0.431\n"
          ]
        },
        {
          "output_type": "stream",
          "name": "stderr",
          "text": [
            "\n"
          ]
        },
        {
          "output_type": "stream",
          "name": "stdout",
          "text": [
            "\n",
            "      Epoch    GPU_mem   box_loss   cls_loss   dfl_loss  Instances       Size\n"
          ]
        },
        {
          "output_type": "stream",
          "name": "stderr",
          "text": [
            "      42/50      2.14G       1.48     0.8669      1.353         16        640: 100%|██████████| 132/132 [00:55<00:00,  2.37it/s]\n",
            "                 Class     Images  Instances      Box(P          R      mAP50  mAP50-95): 100%|██████████| 11/11 [00:05<00:00,  1.88it/s]"
          ]
        },
        {
          "output_type": "stream",
          "name": "stdout",
          "text": [
            "                   all        347        365      0.888      0.851      0.902       0.44\n"
          ]
        },
        {
          "output_type": "stream",
          "name": "stderr",
          "text": [
            "\n"
          ]
        },
        {
          "output_type": "stream",
          "name": "stdout",
          "text": [
            "\n",
            "      Epoch    GPU_mem   box_loss   cls_loss   dfl_loss  Instances       Size\n"
          ]
        },
        {
          "output_type": "stream",
          "name": "stderr",
          "text": [
            "      43/50      2.16G      1.455      0.853      1.329         16        640: 100%|██████████| 132/132 [00:56<00:00,  2.33it/s]\n",
            "                 Class     Images  Instances      Box(P          R      mAP50  mAP50-95): 100%|██████████| 11/11 [00:07<00:00,  1.50it/s]"
          ]
        },
        {
          "output_type": "stream",
          "name": "stdout",
          "text": [
            "                   all        347        365      0.863      0.852      0.895      0.443\n"
          ]
        },
        {
          "output_type": "stream",
          "name": "stderr",
          "text": [
            "\n"
          ]
        },
        {
          "output_type": "stream",
          "name": "stdout",
          "text": [
            "\n",
            "      Epoch    GPU_mem   box_loss   cls_loss   dfl_loss  Instances       Size\n"
          ]
        },
        {
          "output_type": "stream",
          "name": "stderr",
          "text": [
            "      44/50      2.14G      1.457     0.8281      1.332         14        640: 100%|██████████| 132/132 [00:55<00:00,  2.37it/s]\n",
            "                 Class     Images  Instances      Box(P          R      mAP50  mAP50-95): 100%|██████████| 11/11 [00:04<00:00,  2.20it/s]"
          ]
        },
        {
          "output_type": "stream",
          "name": "stdout",
          "text": [
            "                   all        347        365      0.895      0.866      0.911      0.442\n"
          ]
        },
        {
          "output_type": "stream",
          "name": "stderr",
          "text": [
            "\n"
          ]
        },
        {
          "output_type": "stream",
          "name": "stdout",
          "text": [
            "\n",
            "      Epoch    GPU_mem   box_loss   cls_loss   dfl_loss  Instances       Size\n"
          ]
        },
        {
          "output_type": "stream",
          "name": "stderr",
          "text": [
            "      45/50      2.14G      1.442     0.8118      1.328         14        640: 100%|██████████| 132/132 [00:59<00:00,  2.22it/s]\n",
            "                 Class     Images  Instances      Box(P          R      mAP50  mAP50-95): 100%|██████████| 11/11 [00:04<00:00,  2.57it/s]"
          ]
        },
        {
          "output_type": "stream",
          "name": "stdout",
          "text": [
            "                   all        347        365      0.886       0.87      0.911      0.452\n"
          ]
        },
        {
          "output_type": "stream",
          "name": "stderr",
          "text": [
            "\n"
          ]
        },
        {
          "output_type": "stream",
          "name": "stdout",
          "text": [
            "\n",
            "      Epoch    GPU_mem   box_loss   cls_loss   dfl_loss  Instances       Size\n"
          ]
        },
        {
          "output_type": "stream",
          "name": "stderr",
          "text": [
            "      46/50      2.14G      1.415     0.8094      1.315         21        640: 100%|██████████| 132/132 [00:56<00:00,  2.34it/s]\n",
            "                 Class     Images  Instances      Box(P          R      mAP50  mAP50-95): 100%|██████████| 11/11 [00:05<00:00,  1.99it/s]"
          ]
        },
        {
          "output_type": "stream",
          "name": "stdout",
          "text": [
            "                   all        347        365      0.896      0.875      0.904      0.451\n"
          ]
        },
        {
          "output_type": "stream",
          "name": "stderr",
          "text": [
            "\n"
          ]
        },
        {
          "output_type": "stream",
          "name": "stdout",
          "text": [
            "\n",
            "      Epoch    GPU_mem   box_loss   cls_loss   dfl_loss  Instances       Size\n"
          ]
        },
        {
          "output_type": "stream",
          "name": "stderr",
          "text": [
            "      47/50      2.14G      1.406     0.7794      1.309         14        640: 100%|██████████| 132/132 [01:01<00:00,  2.16it/s]\n",
            "                 Class     Images  Instances      Box(P          R      mAP50  mAP50-95): 100%|██████████| 11/11 [00:05<00:00,  2.01it/s]"
          ]
        },
        {
          "output_type": "stream",
          "name": "stdout",
          "text": [
            "                   all        347        365      0.888      0.874      0.896      0.448\n"
          ]
        },
        {
          "output_type": "stream",
          "name": "stderr",
          "text": [
            "\n"
          ]
        },
        {
          "output_type": "stream",
          "name": "stdout",
          "text": [
            "\n",
            "      Epoch    GPU_mem   box_loss   cls_loss   dfl_loss  Instances       Size\n"
          ]
        },
        {
          "output_type": "stream",
          "name": "stderr",
          "text": [
            "      48/50      2.14G      1.405     0.7649      1.304         15        640: 100%|██████████| 132/132 [00:55<00:00,  2.38it/s]\n",
            "                 Class     Images  Instances      Box(P          R      mAP50  mAP50-95): 100%|██████████| 11/11 [00:04<00:00,  2.55it/s]"
          ]
        },
        {
          "output_type": "stream",
          "name": "stdout",
          "text": [
            "                   all        347        365      0.894      0.868      0.904      0.449\n"
          ]
        },
        {
          "output_type": "stream",
          "name": "stderr",
          "text": [
            "\n"
          ]
        },
        {
          "output_type": "stream",
          "name": "stdout",
          "text": [
            "\n",
            "      Epoch    GPU_mem   box_loss   cls_loss   dfl_loss  Instances       Size\n"
          ]
        },
        {
          "output_type": "stream",
          "name": "stderr",
          "text": [
            "      49/50      2.14G      1.393     0.7626      1.297         15        640: 100%|██████████| 132/132 [00:59<00:00,  2.21it/s]\n",
            "                 Class     Images  Instances      Box(P          R      mAP50  mAP50-95): 100%|██████████| 11/11 [00:04<00:00,  2.64it/s]"
          ]
        },
        {
          "output_type": "stream",
          "name": "stdout",
          "text": [
            "                   all        347        365      0.886      0.885      0.916      0.457\n"
          ]
        },
        {
          "output_type": "stream",
          "name": "stderr",
          "text": [
            "\n"
          ]
        },
        {
          "output_type": "stream",
          "name": "stdout",
          "text": [
            "\n",
            "      Epoch    GPU_mem   box_loss   cls_loss   dfl_loss  Instances       Size\n"
          ]
        },
        {
          "output_type": "stream",
          "name": "stderr",
          "text": [
            "      50/50      2.14G       1.38     0.7534      1.295         17        640: 100%|██████████| 132/132 [00:56<00:00,  2.33it/s]\n",
            "                 Class     Images  Instances      Box(P          R      mAP50  mAP50-95): 100%|██████████| 11/11 [00:12<00:00,  1.16s/it]"
          ]
        },
        {
          "output_type": "stream",
          "name": "stdout",
          "text": [
            "                   all        347        365      0.887      0.885      0.919      0.455\n"
          ]
        },
        {
          "output_type": "stream",
          "name": "stderr",
          "text": [
            "\n"
          ]
        },
        {
          "output_type": "stream",
          "name": "stdout",
          "text": [
            "\n",
            "50 epochs completed in 0.921 hours.\n",
            "Optimizer stripped from runs_detect/train_sun/weights/last.pt, 6.2MB\n",
            "Optimizer stripped from runs_detect/train_sun/weights/best.pt, 6.2MB\n",
            "\n",
            "Validating runs_detect/train_sun/weights/best.pt...\n",
            "Ultralytics 8.3.67 🚀 Python-3.11.11 torch-2.5.1+cu121 CUDA:0 (Tesla T4, 15102MiB)\n",
            "Model summary (fused): 168 layers, 3,005,843 parameters, 0 gradients, 8.1 GFLOPs\n"
          ]
        },
        {
          "output_type": "stream",
          "name": "stderr",
          "text": [
            "                 Class     Images  Instances      Box(P          R      mAP50  mAP50-95): 100%|██████████| 11/11 [00:07<00:00,  1.46it/s]\n"
          ]
        },
        {
          "output_type": "stream",
          "name": "stdout",
          "text": [
            "                   all        347        365      0.886      0.885      0.916      0.458\n",
            "Speed: 0.2ms preprocess, 3.1ms inference, 0.0ms loss, 4.1ms postprocess per image\n",
            "Results saved to \u001b[1mruns_detect/train_sun\u001b[0m\n"
          ]
        },
        {
          "output_type": "execute_result",
          "data": {
            "text/plain": [
              "ultralytics.utils.metrics.DetMetrics object with attributes:\n",
              "\n",
              "ap_class_index: array([0])\n",
              "box: ultralytics.utils.metrics.Metric object\n",
              "confusion_matrix: <ultralytics.utils.metrics.ConfusionMatrix object at 0x7d9ac238ddd0>\n",
              "curves: ['Precision-Recall(B)', 'F1-Confidence(B)', 'Precision-Confidence(B)', 'Recall-Confidence(B)']\n",
              "curves_results: [[array([          0,    0.001001,    0.002002,    0.003003,    0.004004,    0.005005,    0.006006,    0.007007,    0.008008,    0.009009,     0.01001,    0.011011,    0.012012,    0.013013,    0.014014,    0.015015,    0.016016,    0.017017,    0.018018,    0.019019,     0.02002,    0.021021,    0.022022,    0.023023,\n",
              "          0.024024,    0.025025,    0.026026,    0.027027,    0.028028,    0.029029,     0.03003,    0.031031,    0.032032,    0.033033,    0.034034,    0.035035,    0.036036,    0.037037,    0.038038,    0.039039,     0.04004,    0.041041,    0.042042,    0.043043,    0.044044,    0.045045,    0.046046,    0.047047,\n",
              "          0.048048,    0.049049,     0.05005,    0.051051,    0.052052,    0.053053,    0.054054,    0.055055,    0.056056,    0.057057,    0.058058,    0.059059,     0.06006,    0.061061,    0.062062,    0.063063,    0.064064,    0.065065,    0.066066,    0.067067,    0.068068,    0.069069,     0.07007,    0.071071,\n",
              "          0.072072,    0.073073,    0.074074,    0.075075,    0.076076,    0.077077,    0.078078,    0.079079,     0.08008,    0.081081,    0.082082,    0.083083,    0.084084,    0.085085,    0.086086,    0.087087,    0.088088,    0.089089,     0.09009,    0.091091,    0.092092,    0.093093,    0.094094,    0.095095,\n",
              "          0.096096,    0.097097,    0.098098,    0.099099,      0.1001,      0.1011,      0.1021,      0.1031,      0.1041,     0.10511,     0.10611,     0.10711,     0.10811,     0.10911,     0.11011,     0.11111,     0.11211,     0.11311,     0.11411,     0.11512,     0.11612,     0.11712,     0.11812,     0.11912,\n",
              "           0.12012,     0.12112,     0.12212,     0.12312,     0.12412,     0.12513,     0.12613,     0.12713,     0.12813,     0.12913,     0.13013,     0.13113,     0.13213,     0.13313,     0.13413,     0.13514,     0.13614,     0.13714,     0.13814,     0.13914,     0.14014,     0.14114,     0.14214,     0.14314,\n",
              "           0.14414,     0.14515,     0.14615,     0.14715,     0.14815,     0.14915,     0.15015,     0.15115,     0.15215,     0.15315,     0.15415,     0.15516,     0.15616,     0.15716,     0.15816,     0.15916,     0.16016,     0.16116,     0.16216,     0.16316,     0.16416,     0.16517,     0.16617,     0.16717,\n",
              "           0.16817,     0.16917,     0.17017,     0.17117,     0.17217,     0.17317,     0.17417,     0.17518,     0.17618,     0.17718,     0.17818,     0.17918,     0.18018,     0.18118,     0.18218,     0.18318,     0.18418,     0.18519,     0.18619,     0.18719,     0.18819,     0.18919,     0.19019,     0.19119,\n",
              "           0.19219,     0.19319,     0.19419,      0.1952,      0.1962,      0.1972,      0.1982,      0.1992,      0.2002,      0.2012,      0.2022,      0.2032,      0.2042,     0.20521,     0.20621,     0.20721,     0.20821,     0.20921,     0.21021,     0.21121,     0.21221,     0.21321,     0.21421,     0.21522,\n",
              "           0.21622,     0.21722,     0.21822,     0.21922,     0.22022,     0.22122,     0.22222,     0.22322,     0.22422,     0.22523,     0.22623,     0.22723,     0.22823,     0.22923,     0.23023,     0.23123,     0.23223,     0.23323,     0.23423,     0.23524,     0.23624,     0.23724,     0.23824,     0.23924,\n",
              "           0.24024,     0.24124,     0.24224,     0.24324,     0.24424,     0.24525,     0.24625,     0.24725,     0.24825,     0.24925,     0.25025,     0.25125,     0.25225,     0.25325,     0.25425,     0.25526,     0.25626,     0.25726,     0.25826,     0.25926,     0.26026,     0.26126,     0.26226,     0.26326,\n",
              "           0.26426,     0.26527,     0.26627,     0.26727,     0.26827,     0.26927,     0.27027,     0.27127,     0.27227,     0.27327,     0.27427,     0.27528,     0.27628,     0.27728,     0.27828,     0.27928,     0.28028,     0.28128,     0.28228,     0.28328,     0.28428,     0.28529,     0.28629,     0.28729,\n",
              "           0.28829,     0.28929,     0.29029,     0.29129,     0.29229,     0.29329,     0.29429,      0.2953,      0.2963,      0.2973,      0.2983,      0.2993,      0.3003,      0.3013,      0.3023,      0.3033,      0.3043,     0.30531,     0.30631,     0.30731,     0.30831,     0.30931,     0.31031,     0.31131,\n",
              "           0.31231,     0.31331,     0.31431,     0.31532,     0.31632,     0.31732,     0.31832,     0.31932,     0.32032,     0.32132,     0.32232,     0.32332,     0.32432,     0.32533,     0.32633,     0.32733,     0.32833,     0.32933,     0.33033,     0.33133,     0.33233,     0.33333,     0.33433,     0.33534,\n",
              "           0.33634,     0.33734,     0.33834,     0.33934,     0.34034,     0.34134,     0.34234,     0.34334,     0.34434,     0.34535,     0.34635,     0.34735,     0.34835,     0.34935,     0.35035,     0.35135,     0.35235,     0.35335,     0.35435,     0.35536,     0.35636,     0.35736,     0.35836,     0.35936,\n",
              "           0.36036,     0.36136,     0.36236,     0.36336,     0.36436,     0.36537,     0.36637,     0.36737,     0.36837,     0.36937,     0.37037,     0.37137,     0.37237,     0.37337,     0.37437,     0.37538,     0.37638,     0.37738,     0.37838,     0.37938,     0.38038,     0.38138,     0.38238,     0.38338,\n",
              "           0.38438,     0.38539,     0.38639,     0.38739,     0.38839,     0.38939,     0.39039,     0.39139,     0.39239,     0.39339,     0.39439,      0.3954,      0.3964,      0.3974,      0.3984,      0.3994,      0.4004,      0.4014,      0.4024,      0.4034,      0.4044,     0.40541,     0.40641,     0.40741,\n",
              "           0.40841,     0.40941,     0.41041,     0.41141,     0.41241,     0.41341,     0.41441,     0.41542,     0.41642,     0.41742,     0.41842,     0.41942,     0.42042,     0.42142,     0.42242,     0.42342,     0.42442,     0.42543,     0.42643,     0.42743,     0.42843,     0.42943,     0.43043,     0.43143,\n",
              "           0.43243,     0.43343,     0.43443,     0.43544,     0.43644,     0.43744,     0.43844,     0.43944,     0.44044,     0.44144,     0.44244,     0.44344,     0.44444,     0.44545,     0.44645,     0.44745,     0.44845,     0.44945,     0.45045,     0.45145,     0.45245,     0.45345,     0.45445,     0.45546,\n",
              "           0.45646,     0.45746,     0.45846,     0.45946,     0.46046,     0.46146,     0.46246,     0.46346,     0.46446,     0.46547,     0.46647,     0.46747,     0.46847,     0.46947,     0.47047,     0.47147,     0.47247,     0.47347,     0.47447,     0.47548,     0.47648,     0.47748,     0.47848,     0.47948,\n",
              "           0.48048,     0.48148,     0.48248,     0.48348,     0.48448,     0.48549,     0.48649,     0.48749,     0.48849,     0.48949,     0.49049,     0.49149,     0.49249,     0.49349,     0.49449,      0.4955,      0.4965,      0.4975,      0.4985,      0.4995,      0.5005,      0.5015,      0.5025,      0.5035,\n",
              "            0.5045,     0.50551,     0.50651,     0.50751,     0.50851,     0.50951,     0.51051,     0.51151,     0.51251,     0.51351,     0.51451,     0.51552,     0.51652,     0.51752,     0.51852,     0.51952,     0.52052,     0.52152,     0.52252,     0.52352,     0.52452,     0.52553,     0.52653,     0.52753,\n",
              "           0.52853,     0.52953,     0.53053,     0.53153,     0.53253,     0.53353,     0.53453,     0.53554,     0.53654,     0.53754,     0.53854,     0.53954,     0.54054,     0.54154,     0.54254,     0.54354,     0.54454,     0.54555,     0.54655,     0.54755,     0.54855,     0.54955,     0.55055,     0.55155,\n",
              "           0.55255,     0.55355,     0.55455,     0.55556,     0.55656,     0.55756,     0.55856,     0.55956,     0.56056,     0.56156,     0.56256,     0.56356,     0.56456,     0.56557,     0.56657,     0.56757,     0.56857,     0.56957,     0.57057,     0.57157,     0.57257,     0.57357,     0.57457,     0.57558,\n",
              "           0.57658,     0.57758,     0.57858,     0.57958,     0.58058,     0.58158,     0.58258,     0.58358,     0.58458,     0.58559,     0.58659,     0.58759,     0.58859,     0.58959,     0.59059,     0.59159,     0.59259,     0.59359,     0.59459,      0.5956,      0.5966,      0.5976,      0.5986,      0.5996,\n",
              "            0.6006,      0.6016,      0.6026,      0.6036,      0.6046,     0.60561,     0.60661,     0.60761,     0.60861,     0.60961,     0.61061,     0.61161,     0.61261,     0.61361,     0.61461,     0.61562,     0.61662,     0.61762,     0.61862,     0.61962,     0.62062,     0.62162,     0.62262,     0.62362,\n",
              "           0.62462,     0.62563,     0.62663,     0.62763,     0.62863,     0.62963,     0.63063,     0.63163,     0.63263,     0.63363,     0.63463,     0.63564,     0.63664,     0.63764,     0.63864,     0.63964,     0.64064,     0.64164,     0.64264,     0.64364,     0.64464,     0.64565,     0.64665,     0.64765,\n",
              "           0.64865,     0.64965,     0.65065,     0.65165,     0.65265,     0.65365,     0.65465,     0.65566,     0.65666,     0.65766,     0.65866,     0.65966,     0.66066,     0.66166,     0.66266,     0.66366,     0.66466,     0.66567,     0.66667,     0.66767,     0.66867,     0.66967,     0.67067,     0.67167,\n",
              "           0.67267,     0.67367,     0.67467,     0.67568,     0.67668,     0.67768,     0.67868,     0.67968,     0.68068,     0.68168,     0.68268,     0.68368,     0.68468,     0.68569,     0.68669,     0.68769,     0.68869,     0.68969,     0.69069,     0.69169,     0.69269,     0.69369,     0.69469,      0.6957,\n",
              "            0.6967,      0.6977,      0.6987,      0.6997,      0.7007,      0.7017,      0.7027,      0.7037,      0.7047,     0.70571,     0.70671,     0.70771,     0.70871,     0.70971,     0.71071,     0.71171,     0.71271,     0.71371,     0.71471,     0.71572,     0.71672,     0.71772,     0.71872,     0.71972,\n",
              "           0.72072,     0.72172,     0.72272,     0.72372,     0.72472,     0.72573,     0.72673,     0.72773,     0.72873,     0.72973,     0.73073,     0.73173,     0.73273,     0.73373,     0.73473,     0.73574,     0.73674,     0.73774,     0.73874,     0.73974,     0.74074,     0.74174,     0.74274,     0.74374,\n",
              "           0.74474,     0.74575,     0.74675,     0.74775,     0.74875,     0.74975,     0.75075,     0.75175,     0.75275,     0.75375,     0.75475,     0.75576,     0.75676,     0.75776,     0.75876,     0.75976,     0.76076,     0.76176,     0.76276,     0.76376,     0.76476,     0.76577,     0.76677,     0.76777,\n",
              "           0.76877,     0.76977,     0.77077,     0.77177,     0.77277,     0.77377,     0.77477,     0.77578,     0.77678,     0.77778,     0.77878,     0.77978,     0.78078,     0.78178,     0.78278,     0.78378,     0.78478,     0.78579,     0.78679,     0.78779,     0.78879,     0.78979,     0.79079,     0.79179,\n",
              "           0.79279,     0.79379,     0.79479,      0.7958,      0.7968,      0.7978,      0.7988,      0.7998,      0.8008,      0.8018,      0.8028,      0.8038,      0.8048,     0.80581,     0.80681,     0.80781,     0.80881,     0.80981,     0.81081,     0.81181,     0.81281,     0.81381,     0.81481,     0.81582,\n",
              "           0.81682,     0.81782,     0.81882,     0.81982,     0.82082,     0.82182,     0.82282,     0.82382,     0.82482,     0.82583,     0.82683,     0.82783,     0.82883,     0.82983,     0.83083,     0.83183,     0.83283,     0.83383,     0.83483,     0.83584,     0.83684,     0.83784,     0.83884,     0.83984,\n",
              "           0.84084,     0.84184,     0.84284,     0.84384,     0.84484,     0.84585,     0.84685,     0.84785,     0.84885,     0.84985,     0.85085,     0.85185,     0.85285,     0.85385,     0.85485,     0.85586,     0.85686,     0.85786,     0.85886,     0.85986,     0.86086,     0.86186,     0.86286,     0.86386,\n",
              "           0.86486,     0.86587,     0.86687,     0.86787,     0.86887,     0.86987,     0.87087,     0.87187,     0.87287,     0.87387,     0.87487,     0.87588,     0.87688,     0.87788,     0.87888,     0.87988,     0.88088,     0.88188,     0.88288,     0.88388,     0.88488,     0.88589,     0.88689,     0.88789,\n",
              "           0.88889,     0.88989,     0.89089,     0.89189,     0.89289,     0.89389,     0.89489,      0.8959,      0.8969,      0.8979,      0.8989,      0.8999,      0.9009,      0.9019,      0.9029,      0.9039,      0.9049,     0.90591,     0.90691,     0.90791,     0.90891,     0.90991,     0.91091,     0.91191,\n",
              "           0.91291,     0.91391,     0.91491,     0.91592,     0.91692,     0.91792,     0.91892,     0.91992,     0.92092,     0.92192,     0.92292,     0.92392,     0.92492,     0.92593,     0.92693,     0.92793,     0.92893,     0.92993,     0.93093,     0.93193,     0.93293,     0.93393,     0.93493,     0.93594,\n",
              "           0.93694,     0.93794,     0.93894,     0.93994,     0.94094,     0.94194,     0.94294,     0.94394,     0.94494,     0.94595,     0.94695,     0.94795,     0.94895,     0.94995,     0.95095,     0.95195,     0.95295,     0.95395,     0.95495,     0.95596,     0.95696,     0.95796,     0.95896,     0.95996,\n",
              "           0.96096,     0.96196,     0.96296,     0.96396,     0.96496,     0.96597,     0.96697,     0.96797,     0.96897,     0.96997,     0.97097,     0.97197,     0.97297,     0.97397,     0.97497,     0.97598,     0.97698,     0.97798,     0.97898,     0.97998,     0.98098,     0.98198,     0.98298,     0.98398,\n",
              "           0.98498,     0.98599,     0.98699,     0.98799,     0.98899,     0.98999,     0.99099,     0.99199,     0.99299,     0.99399,     0.99499,       0.996,       0.997,       0.998,       0.999,           1]), array([[          1,           1,           1,           1,           1,           1,           1,           1,           1,           1,           1,           1,           1,           1,           1,           1,           1,           1,           1,           1,           1,           1,           1,\n",
              "                  1,           1,           1,           1,           1,           1,           1,           1,     0.99167,     0.99167,     0.99167,     0.99167,     0.99167,     0.99167,     0.99167,     0.99167,     0.99167,     0.99167,     0.99167,     0.99167,     0.99167,     0.99167,     0.99167,\n",
              "            0.99167,     0.99167,     0.99167,     0.99167,     0.99167,     0.99167,     0.99167,     0.99167,     0.99167,     0.99167,     0.99167,     0.99167,     0.99167,     0.99167,     0.99167,     0.99167,     0.99167,     0.99167,     0.99167,     0.99167,     0.99167,     0.99167,     0.99167,\n",
              "            0.99167,     0.99167,     0.99167,     0.99167,     0.99167,     0.99167,     0.99167,     0.99167,     0.99167,     0.99167,     0.99167,     0.99167,     0.99167,     0.99167,     0.99167,     0.99167,     0.99167,     0.99167,     0.99167,     0.99167,     0.99167,     0.99167,     0.99167,\n",
              "            0.99167,     0.99167,     0.99167,     0.99167,     0.99167,     0.99167,     0.99167,     0.99167,     0.99167,     0.99167,     0.99167,     0.99167,     0.99167,     0.99167,     0.99167,     0.99167,     0.99167,     0.99167,     0.99167,     0.99167,     0.99167,     0.99167,     0.99167,\n",
              "            0.99167,     0.99167,     0.99167,     0.99167,     0.99167,     0.99167,     0.99167,     0.99167,     0.99167,     0.99167,     0.99167,     0.99167,     0.99167,     0.99167,     0.99167,     0.99167,     0.99167,     0.99167,     0.99167,     0.99167,     0.99167,     0.99167,     0.99167,\n",
              "            0.99167,     0.99167,     0.99167,     0.99167,     0.99167,     0.99167,     0.99167,     0.99167,     0.99167,     0.99167,     0.99167,     0.99167,     0.99167,     0.99167,     0.99167,     0.99167,     0.99167,     0.99167,     0.99167,     0.99167,     0.99167,     0.99167,     0.99167,\n",
              "            0.99167,     0.99167,     0.99167,     0.99167,     0.99167,     0.99167,     0.99167,     0.99167,     0.99167,     0.99167,     0.99167,     0.99167,     0.99167,     0.99167,     0.99167,     0.99167,     0.99167,     0.99167,     0.99167,     0.99167,     0.99167,     0.99167,     0.99167,\n",
              "            0.99167,     0.99167,     0.99167,     0.99167,     0.99167,     0.99167,     0.99167,     0.99167,     0.99167,     0.99167,     0.99167,     0.99167,     0.99167,     0.99167,     0.99167,     0.99167,     0.99167,     0.99167,     0.99167,     0.99167,     0.99167,     0.99167,     0.99167,\n",
              "            0.99167,     0.99167,     0.99167,     0.99167,     0.99167,     0.99167,     0.99167,     0.99167,     0.99167,     0.99167,     0.99167,     0.99167,     0.99167,     0.99167,     0.99167,     0.99167,     0.99167,     0.99167,     0.99167,     0.99167,     0.99167,     0.99167,     0.99167,\n",
              "            0.99167,     0.99167,     0.99167,     0.99167,     0.99167,     0.99167,     0.99167,     0.99167,     0.99167,     0.99167,     0.99167,     0.99167,     0.99167,     0.99167,     0.99167,     0.99167,     0.99167,     0.99167,     0.99167,     0.99167,     0.99167,     0.99167,     0.99167,\n",
              "            0.99167,     0.99167,     0.99167,     0.99167,     0.99167,     0.99167,     0.99167,     0.99167,     0.99167,     0.99167,     0.99167,     0.99167,     0.99167,     0.99167,     0.99167,     0.99167,     0.99167,     0.99167,     0.99167,     0.99167,     0.99167,     0.99167,     0.99167,\n",
              "            0.99167,     0.99167,     0.99167,     0.99167,     0.99167,     0.99167,     0.99167,     0.99167,     0.99167,     0.99167,     0.99167,     0.99167,     0.99167,     0.99167,     0.99167,     0.99167,     0.99167,     0.99167,     0.99167,     0.99167,     0.99167,     0.99167,     0.99167,\n",
              "            0.99167,     0.99167,     0.99167,     0.99167,     0.99167,     0.99167,     0.99167,     0.99167,     0.99167,     0.99167,     0.99167,     0.99167,     0.99167,     0.99167,     0.99167,     0.99167,     0.99167,     0.99167,     0.99167,     0.99167,     0.99167,     0.99167,     0.99167,\n",
              "            0.99167,     0.99167,     0.99167,     0.99167,     0.98438,     0.98438,     0.98438,     0.98438,     0.98438,     0.98438,     0.98438,     0.98438,     0.98438,     0.98438,     0.98438,     0.98438,     0.98438,     0.98438,     0.98438,     0.98438,     0.98438,     0.98438,     0.98438,\n",
              "            0.97857,     0.97857,     0.97857,     0.97857,     0.97857,     0.97857,     0.97857,     0.97857,     0.97857,     0.97857,     0.97857,     0.97857,     0.97857,     0.97857,     0.97857,     0.97857,     0.97857,     0.97857,     0.97857,     0.97857,     0.97857,     0.97857,     0.97857,\n",
              "            0.97857,     0.97857,     0.97857,     0.97857,     0.97857,     0.97857,     0.97857,     0.97765,     0.97765,     0.97765,     0.97765,     0.97765,     0.97765,     0.97765,     0.97765,     0.97765,     0.97765,     0.97765,     0.97765,     0.97765,     0.97765,     0.97765,     0.97765,\n",
              "            0.97765,     0.97765,     0.97765,     0.97765,     0.97765,     0.97765,     0.97765,     0.97765,     0.97765,     0.97765,     0.97765,     0.97765,     0.97765,     0.97765,     0.97765,     0.97765,     0.97765,     0.97765,     0.97765,     0.97765,     0.97765,     0.97765,     0.97765,\n",
              "            0.97765,     0.97765,     0.97765,     0.97765,     0.97765,     0.97765,     0.97765,     0.97765,     0.97765,     0.97765,     0.97765,     0.97765,     0.97765,     0.97765,     0.97765,     0.97765,     0.97765,     0.97765,     0.97765,     0.97765,     0.97765,     0.97765,     0.97765,\n",
              "            0.97765,     0.97765,     0.97765,     0.97765,     0.97765,     0.97765,     0.97765,     0.97765,     0.97765,     0.97765,     0.97765,     0.97765,     0.97765,     0.97765,     0.97765,     0.97765,     0.97765,     0.97765,     0.97765,     0.97765,     0.97765,     0.97765,     0.97765,\n",
              "            0.97765,     0.97765,     0.97765,     0.97765,     0.97765,     0.97765,     0.97765,     0.97765,     0.97765,     0.97765,     0.97765,     0.97765,     0.97765,     0.97765,     0.97765,     0.97765,     0.97765,     0.97765,     0.97765,     0.97297,     0.97297,     0.97297,     0.97297,\n",
              "            0.97297,     0.97297,     0.97297,     0.97297,     0.97297,     0.97297,     0.97297,     0.97297,     0.97297,     0.97297,     0.96985,     0.96985,     0.96985,     0.96985,     0.96985,     0.96985,     0.96985,     0.96985,     0.96985,     0.96985,     0.96985,     0.96985,     0.96985,\n",
              "            0.96985,     0.96985,     0.96985,     0.96985,     0.96985,     0.96985,     0.96985,     0.96985,     0.96985,     0.96985,     0.96985,     0.96985,     0.96985,     0.96985,     0.96985,     0.96985,     0.96985,     0.96985,     0.96985,     0.96985,     0.96985,     0.96985,     0.96985,\n",
              "            0.96535,     0.96535,     0.96535,     0.96535,     0.96535,     0.96525,     0.96525,     0.96525,     0.96525,     0.96525,     0.96525,     0.96525,     0.96525,     0.96525,     0.96525,     0.96525,     0.96525,     0.96525,     0.96525,     0.96525,     0.96525,     0.96525,     0.96525,\n",
              "            0.96525,     0.96525,     0.96525,     0.96525,     0.96525,     0.96525,     0.96525,     0.96525,     0.96525,     0.96525,     0.96525,     0.96525,     0.96525,     0.96525,     0.96525,     0.96525,     0.96525,     0.96525,     0.96525,     0.96525,     0.96525,     0.96525,     0.96525,\n",
              "            0.96525,     0.96525,     0.96525,     0.96525,     0.96525,     0.96525,     0.96525,     0.96525,     0.96525,     0.96525,     0.96525,     0.96525,     0.96525,     0.96525,     0.96525,     0.96525,     0.96525,     0.96525,     0.96525,     0.96525,     0.96525,     0.96525,     0.96525,\n",
              "            0.96525,     0.96525,     0.96525,     0.96525,     0.96525,     0.96525,     0.96525,     0.96525,     0.96525,     0.96525,     0.96525,     0.96525,     0.96525,     0.96525,     0.96525,     0.96525,     0.96525,     0.96525,     0.96525,     0.96525,     0.96525,     0.96525,     0.96525,\n",
              "            0.96525,     0.96525,     0.96525,     0.96525,     0.96525,     0.96525,     0.96525,     0.96525,     0.96525,     0.96525,     0.96525,     0.96525,     0.96525,     0.96525,     0.96525,     0.96525,     0.96525,     0.96525,     0.96525,     0.96525,     0.96525,     0.96525,     0.96525,\n",
              "            0.96525,     0.96525,     0.96525,     0.96525,     0.96525,     0.96525,     0.96525,     0.96525,     0.96525,     0.96525,     0.96525,     0.96525,     0.96525,     0.96525,     0.96525,     0.96525,     0.96525,     0.96525,     0.96525,     0.96525,     0.96525,     0.96525,     0.96525,\n",
              "            0.96525,     0.96525,     0.96525,     0.96525,     0.96525,     0.96525,     0.96525,     0.96525,     0.96525,     0.96525,     0.96525,     0.96525,     0.96525,     0.96525,     0.96525,     0.96525,     0.96525,     0.96525,     0.96212,     0.96212,     0.96212,     0.96212,     0.96212,\n",
              "            0.96212,     0.96212,     0.96212,     0.96212,     0.96212,     0.96212,        0.96,        0.96,        0.96,        0.96,        0.96,        0.96,        0.96,        0.96,        0.96,        0.96,        0.96,        0.96,        0.96,        0.96,        0.96,        0.96,        0.96,\n",
              "               0.96,        0.96,        0.96,        0.96,        0.96,        0.96,        0.96,        0.96,        0.96,        0.96,      0.9573,      0.9573,      0.9573,      0.9573,      0.9573,      0.9573,      0.9573,      0.9573,      0.9573,      0.9573,      0.9573,      0.9573,      0.9573,\n",
              "             0.9573,     0.95406,     0.95406,     0.95172,     0.95172,     0.95172,     0.95172,     0.95172,     0.95172,     0.95172,     0.95172,     0.95172,     0.95172,     0.95172,     0.95172,     0.95172,     0.95172,     0.95172,     0.95172,     0.95172,     0.94295,     0.94295,     0.94295,\n",
              "            0.94295,     0.94295,     0.94295,     0.94295,     0.94295,     0.94295,     0.94295,     0.94295,     0.94295,     0.94295,     0.94295,        0.94,        0.94,     0.93709,     0.93709,     0.93709,     0.93485,     0.93485,     0.93485,     0.93485,     0.93485,     0.93485,     0.93485,\n",
              "            0.93485,     0.93485,     0.93485,     0.93485,     0.93226,     0.93226,     0.93226,     0.93226,     0.93226,     0.93016,     0.93016,     0.93016,     0.93016,     0.93016,     0.93016,     0.93016,     0.93016,     0.93016,     0.93016,     0.93016,     0.92744,     0.92744,     0.92744,\n",
              "              0.925,       0.925,       0.925,       0.925,       0.925,       0.925,     0.92355,     0.92355,     0.92355,     0.92355,     0.92355,     0.92355,     0.92355,     0.92355,     0.92355,     0.92355,     0.92355,     0.92355,     0.92355,     0.92355,     0.92355,     0.92355,     0.91964,\n",
              "            0.91964,     0.91964,     0.91964,     0.91964,     0.91964,     0.91964,     0.91964,     0.91964,     0.91964,     0.91964,     0.91964,     0.91964,     0.91964,     0.91964,     0.91964,     0.91964,     0.91964,     0.91964,     0.90936,     0.90936,     0.90936,     0.90936,     0.90936,\n",
              "            0.90936,     0.90725,     0.90725,     0.90725,     0.90725,     0.90725,     0.90517,     0.90517,     0.90517,     0.90517,     0.90517,     0.90517,     0.90313,     0.90313,     0.90313,     0.90313,     0.90313,     0.89916,     0.89916,     0.89916,     0.89916,     0.89916,     0.89916,\n",
              "            0.89916,     0.89916,     0.89916,     0.89916,     0.89916,     0.89197,     0.89197,     0.89197,     0.88981,     0.88981,     0.88981,     0.88525,     0.88525,     0.87838,     0.87838,     0.87838,     0.87634,     0.87634,     0.87634,     0.87433,     0.87433,     0.84755,     0.84755,\n",
              "            0.84755,     0.83929,     0.83929,     0.83929,     0.77465,     0.77465,     0.77465,     0.74382,     0.74382,     0.73778,     0.73778,     0.73778,     0.73673,     0.73673,     0.73673,     0.73568,     0.73568,     0.73568,     0.72668,     0.72668,     0.71642,     0.71642,     0.71642,\n",
              "            0.70502,     0.70502,     0.70502,     0.69897,     0.69897,     0.69897,     0.69897,     0.69897,     0.69388,     0.69388,     0.69388,     0.68889,     0.68889,     0.68889,     0.64165,     0.64165,     0.64165,     0.58834,     0.58834,     0.51343,     0.51343,     0.51343,     0.50587,\n",
              "            0.50587,     0.50587,     0.47203,     0.47203,       0.464,       0.464,       0.464,       0.464,       0.464,       0.464,     0.45801,     0.45801,     0.45801,     0.43263,     0.43263,     0.38152,     0.38152,     0.38152,     0.29655,     0.29655,     0.29655,     0.25561,     0.25561,\n",
              "            0.25561,     0.21974,     0.21974,     0.21954,     0.21954,     0.21954,     0.19085,     0.18378,     0.17671,     0.16964,     0.16257,      0.1555,     0.14844,     0.14137,      0.1343,     0.12723,     0.12016,     0.11309,     0.10603,    0.098957,    0.091889,    0.084821,    0.077752,\n",
              "           0.070684,    0.063615,    0.056547,    0.049479,     0.04241,    0.035342,    0.028274,    0.021205,    0.014137,   0.0070684,           0]]), 'Recall', 'Precision'], [array([          0,    0.001001,    0.002002,    0.003003,    0.004004,    0.005005,    0.006006,    0.007007,    0.008008,    0.009009,     0.01001,    0.011011,    0.012012,    0.013013,    0.014014,    0.015015,    0.016016,    0.017017,    0.018018,    0.019019,     0.02002,    0.021021,    0.022022,    0.023023,\n",
              "          0.024024,    0.025025,    0.026026,    0.027027,    0.028028,    0.029029,     0.03003,    0.031031,    0.032032,    0.033033,    0.034034,    0.035035,    0.036036,    0.037037,    0.038038,    0.039039,     0.04004,    0.041041,    0.042042,    0.043043,    0.044044,    0.045045,    0.046046,    0.047047,\n",
              "          0.048048,    0.049049,     0.05005,    0.051051,    0.052052,    0.053053,    0.054054,    0.055055,    0.056056,    0.057057,    0.058058,    0.059059,     0.06006,    0.061061,    0.062062,    0.063063,    0.064064,    0.065065,    0.066066,    0.067067,    0.068068,    0.069069,     0.07007,    0.071071,\n",
              "          0.072072,    0.073073,    0.074074,    0.075075,    0.076076,    0.077077,    0.078078,    0.079079,     0.08008,    0.081081,    0.082082,    0.083083,    0.084084,    0.085085,    0.086086,    0.087087,    0.088088,    0.089089,     0.09009,    0.091091,    0.092092,    0.093093,    0.094094,    0.095095,\n",
              "          0.096096,    0.097097,    0.098098,    0.099099,      0.1001,      0.1011,      0.1021,      0.1031,      0.1041,     0.10511,     0.10611,     0.10711,     0.10811,     0.10911,     0.11011,     0.11111,     0.11211,     0.11311,     0.11411,     0.11512,     0.11612,     0.11712,     0.11812,     0.11912,\n",
              "           0.12012,     0.12112,     0.12212,     0.12312,     0.12412,     0.12513,     0.12613,     0.12713,     0.12813,     0.12913,     0.13013,     0.13113,     0.13213,     0.13313,     0.13413,     0.13514,     0.13614,     0.13714,     0.13814,     0.13914,     0.14014,     0.14114,     0.14214,     0.14314,\n",
              "           0.14414,     0.14515,     0.14615,     0.14715,     0.14815,     0.14915,     0.15015,     0.15115,     0.15215,     0.15315,     0.15415,     0.15516,     0.15616,     0.15716,     0.15816,     0.15916,     0.16016,     0.16116,     0.16216,     0.16316,     0.16416,     0.16517,     0.16617,     0.16717,\n",
              "           0.16817,     0.16917,     0.17017,     0.17117,     0.17217,     0.17317,     0.17417,     0.17518,     0.17618,     0.17718,     0.17818,     0.17918,     0.18018,     0.18118,     0.18218,     0.18318,     0.18418,     0.18519,     0.18619,     0.18719,     0.18819,     0.18919,     0.19019,     0.19119,\n",
              "           0.19219,     0.19319,     0.19419,      0.1952,      0.1962,      0.1972,      0.1982,      0.1992,      0.2002,      0.2012,      0.2022,      0.2032,      0.2042,     0.20521,     0.20621,     0.20721,     0.20821,     0.20921,     0.21021,     0.21121,     0.21221,     0.21321,     0.21421,     0.21522,\n",
              "           0.21622,     0.21722,     0.21822,     0.21922,     0.22022,     0.22122,     0.22222,     0.22322,     0.22422,     0.22523,     0.22623,     0.22723,     0.22823,     0.22923,     0.23023,     0.23123,     0.23223,     0.23323,     0.23423,     0.23524,     0.23624,     0.23724,     0.23824,     0.23924,\n",
              "           0.24024,     0.24124,     0.24224,     0.24324,     0.24424,     0.24525,     0.24625,     0.24725,     0.24825,     0.24925,     0.25025,     0.25125,     0.25225,     0.25325,     0.25425,     0.25526,     0.25626,     0.25726,     0.25826,     0.25926,     0.26026,     0.26126,     0.26226,     0.26326,\n",
              "           0.26426,     0.26527,     0.26627,     0.26727,     0.26827,     0.26927,     0.27027,     0.27127,     0.27227,     0.27327,     0.27427,     0.27528,     0.27628,     0.27728,     0.27828,     0.27928,     0.28028,     0.28128,     0.28228,     0.28328,     0.28428,     0.28529,     0.28629,     0.28729,\n",
              "           0.28829,     0.28929,     0.29029,     0.29129,     0.29229,     0.29329,     0.29429,      0.2953,      0.2963,      0.2973,      0.2983,      0.2993,      0.3003,      0.3013,      0.3023,      0.3033,      0.3043,     0.30531,     0.30631,     0.30731,     0.30831,     0.30931,     0.31031,     0.31131,\n",
              "           0.31231,     0.31331,     0.31431,     0.31532,     0.31632,     0.31732,     0.31832,     0.31932,     0.32032,     0.32132,     0.32232,     0.32332,     0.32432,     0.32533,     0.32633,     0.32733,     0.32833,     0.32933,     0.33033,     0.33133,     0.33233,     0.33333,     0.33433,     0.33534,\n",
              "           0.33634,     0.33734,     0.33834,     0.33934,     0.34034,     0.34134,     0.34234,     0.34334,     0.34434,     0.34535,     0.34635,     0.34735,     0.34835,     0.34935,     0.35035,     0.35135,     0.35235,     0.35335,     0.35435,     0.35536,     0.35636,     0.35736,     0.35836,     0.35936,\n",
              "           0.36036,     0.36136,     0.36236,     0.36336,     0.36436,     0.36537,     0.36637,     0.36737,     0.36837,     0.36937,     0.37037,     0.37137,     0.37237,     0.37337,     0.37437,     0.37538,     0.37638,     0.37738,     0.37838,     0.37938,     0.38038,     0.38138,     0.38238,     0.38338,\n",
              "           0.38438,     0.38539,     0.38639,     0.38739,     0.38839,     0.38939,     0.39039,     0.39139,     0.39239,     0.39339,     0.39439,      0.3954,      0.3964,      0.3974,      0.3984,      0.3994,      0.4004,      0.4014,      0.4024,      0.4034,      0.4044,     0.40541,     0.40641,     0.40741,\n",
              "           0.40841,     0.40941,     0.41041,     0.41141,     0.41241,     0.41341,     0.41441,     0.41542,     0.41642,     0.41742,     0.41842,     0.41942,     0.42042,     0.42142,     0.42242,     0.42342,     0.42442,     0.42543,     0.42643,     0.42743,     0.42843,     0.42943,     0.43043,     0.43143,\n",
              "           0.43243,     0.43343,     0.43443,     0.43544,     0.43644,     0.43744,     0.43844,     0.43944,     0.44044,     0.44144,     0.44244,     0.44344,     0.44444,     0.44545,     0.44645,     0.44745,     0.44845,     0.44945,     0.45045,     0.45145,     0.45245,     0.45345,     0.45445,     0.45546,\n",
              "           0.45646,     0.45746,     0.45846,     0.45946,     0.46046,     0.46146,     0.46246,     0.46346,     0.46446,     0.46547,     0.46647,     0.46747,     0.46847,     0.46947,     0.47047,     0.47147,     0.47247,     0.47347,     0.47447,     0.47548,     0.47648,     0.47748,     0.47848,     0.47948,\n",
              "           0.48048,     0.48148,     0.48248,     0.48348,     0.48448,     0.48549,     0.48649,     0.48749,     0.48849,     0.48949,     0.49049,     0.49149,     0.49249,     0.49349,     0.49449,      0.4955,      0.4965,      0.4975,      0.4985,      0.4995,      0.5005,      0.5015,      0.5025,      0.5035,\n",
              "            0.5045,     0.50551,     0.50651,     0.50751,     0.50851,     0.50951,     0.51051,     0.51151,     0.51251,     0.51351,     0.51451,     0.51552,     0.51652,     0.51752,     0.51852,     0.51952,     0.52052,     0.52152,     0.52252,     0.52352,     0.52452,     0.52553,     0.52653,     0.52753,\n",
              "           0.52853,     0.52953,     0.53053,     0.53153,     0.53253,     0.53353,     0.53453,     0.53554,     0.53654,     0.53754,     0.53854,     0.53954,     0.54054,     0.54154,     0.54254,     0.54354,     0.54454,     0.54555,     0.54655,     0.54755,     0.54855,     0.54955,     0.55055,     0.55155,\n",
              "           0.55255,     0.55355,     0.55455,     0.55556,     0.55656,     0.55756,     0.55856,     0.55956,     0.56056,     0.56156,     0.56256,     0.56356,     0.56456,     0.56557,     0.56657,     0.56757,     0.56857,     0.56957,     0.57057,     0.57157,     0.57257,     0.57357,     0.57457,     0.57558,\n",
              "           0.57658,     0.57758,     0.57858,     0.57958,     0.58058,     0.58158,     0.58258,     0.58358,     0.58458,     0.58559,     0.58659,     0.58759,     0.58859,     0.58959,     0.59059,     0.59159,     0.59259,     0.59359,     0.59459,      0.5956,      0.5966,      0.5976,      0.5986,      0.5996,\n",
              "            0.6006,      0.6016,      0.6026,      0.6036,      0.6046,     0.60561,     0.60661,     0.60761,     0.60861,     0.60961,     0.61061,     0.61161,     0.61261,     0.61361,     0.61461,     0.61562,     0.61662,     0.61762,     0.61862,     0.61962,     0.62062,     0.62162,     0.62262,     0.62362,\n",
              "           0.62462,     0.62563,     0.62663,     0.62763,     0.62863,     0.62963,     0.63063,     0.63163,     0.63263,     0.63363,     0.63463,     0.63564,     0.63664,     0.63764,     0.63864,     0.63964,     0.64064,     0.64164,     0.64264,     0.64364,     0.64464,     0.64565,     0.64665,     0.64765,\n",
              "           0.64865,     0.64965,     0.65065,     0.65165,     0.65265,     0.65365,     0.65465,     0.65566,     0.65666,     0.65766,     0.65866,     0.65966,     0.66066,     0.66166,     0.66266,     0.66366,     0.66466,     0.66567,     0.66667,     0.66767,     0.66867,     0.66967,     0.67067,     0.67167,\n",
              "           0.67267,     0.67367,     0.67467,     0.67568,     0.67668,     0.67768,     0.67868,     0.67968,     0.68068,     0.68168,     0.68268,     0.68368,     0.68468,     0.68569,     0.68669,     0.68769,     0.68869,     0.68969,     0.69069,     0.69169,     0.69269,     0.69369,     0.69469,      0.6957,\n",
              "            0.6967,      0.6977,      0.6987,      0.6997,      0.7007,      0.7017,      0.7027,      0.7037,      0.7047,     0.70571,     0.70671,     0.70771,     0.70871,     0.70971,     0.71071,     0.71171,     0.71271,     0.71371,     0.71471,     0.71572,     0.71672,     0.71772,     0.71872,     0.71972,\n",
              "           0.72072,     0.72172,     0.72272,     0.72372,     0.72472,     0.72573,     0.72673,     0.72773,     0.72873,     0.72973,     0.73073,     0.73173,     0.73273,     0.73373,     0.73473,     0.73574,     0.73674,     0.73774,     0.73874,     0.73974,     0.74074,     0.74174,     0.74274,     0.74374,\n",
              "           0.74474,     0.74575,     0.74675,     0.74775,     0.74875,     0.74975,     0.75075,     0.75175,     0.75275,     0.75375,     0.75475,     0.75576,     0.75676,     0.75776,     0.75876,     0.75976,     0.76076,     0.76176,     0.76276,     0.76376,     0.76476,     0.76577,     0.76677,     0.76777,\n",
              "           0.76877,     0.76977,     0.77077,     0.77177,     0.77277,     0.77377,     0.77477,     0.77578,     0.77678,     0.77778,     0.77878,     0.77978,     0.78078,     0.78178,     0.78278,     0.78378,     0.78478,     0.78579,     0.78679,     0.78779,     0.78879,     0.78979,     0.79079,     0.79179,\n",
              "           0.79279,     0.79379,     0.79479,      0.7958,      0.7968,      0.7978,      0.7988,      0.7998,      0.8008,      0.8018,      0.8028,      0.8038,      0.8048,     0.80581,     0.80681,     0.80781,     0.80881,     0.80981,     0.81081,     0.81181,     0.81281,     0.81381,     0.81481,     0.81582,\n",
              "           0.81682,     0.81782,     0.81882,     0.81982,     0.82082,     0.82182,     0.82282,     0.82382,     0.82482,     0.82583,     0.82683,     0.82783,     0.82883,     0.82983,     0.83083,     0.83183,     0.83283,     0.83383,     0.83483,     0.83584,     0.83684,     0.83784,     0.83884,     0.83984,\n",
              "           0.84084,     0.84184,     0.84284,     0.84384,     0.84484,     0.84585,     0.84685,     0.84785,     0.84885,     0.84985,     0.85085,     0.85185,     0.85285,     0.85385,     0.85485,     0.85586,     0.85686,     0.85786,     0.85886,     0.85986,     0.86086,     0.86186,     0.86286,     0.86386,\n",
              "           0.86486,     0.86587,     0.86687,     0.86787,     0.86887,     0.86987,     0.87087,     0.87187,     0.87287,     0.87387,     0.87487,     0.87588,     0.87688,     0.87788,     0.87888,     0.87988,     0.88088,     0.88188,     0.88288,     0.88388,     0.88488,     0.88589,     0.88689,     0.88789,\n",
              "           0.88889,     0.88989,     0.89089,     0.89189,     0.89289,     0.89389,     0.89489,      0.8959,      0.8969,      0.8979,      0.8989,      0.8999,      0.9009,      0.9019,      0.9029,      0.9039,      0.9049,     0.90591,     0.90691,     0.90791,     0.90891,     0.90991,     0.91091,     0.91191,\n",
              "           0.91291,     0.91391,     0.91491,     0.91592,     0.91692,     0.91792,     0.91892,     0.91992,     0.92092,     0.92192,     0.92292,     0.92392,     0.92492,     0.92593,     0.92693,     0.92793,     0.92893,     0.92993,     0.93093,     0.93193,     0.93293,     0.93393,     0.93493,     0.93594,\n",
              "           0.93694,     0.93794,     0.93894,     0.93994,     0.94094,     0.94194,     0.94294,     0.94394,     0.94494,     0.94595,     0.94695,     0.94795,     0.94895,     0.94995,     0.95095,     0.95195,     0.95295,     0.95395,     0.95495,     0.95596,     0.95696,     0.95796,     0.95896,     0.95996,\n",
              "           0.96096,     0.96196,     0.96296,     0.96396,     0.96496,     0.96597,     0.96697,     0.96797,     0.96897,     0.96997,     0.97097,     0.97197,     0.97297,     0.97397,     0.97497,     0.97598,     0.97698,     0.97798,     0.97898,     0.97998,     0.98098,     0.98198,     0.98298,     0.98398,\n",
              "           0.98498,     0.98599,     0.98699,     0.98799,     0.98899,     0.98999,     0.99099,     0.99199,     0.99299,     0.99399,     0.99499,       0.996,       0.997,       0.998,       0.999,           1]), array([[    0.32273,     0.32273,     0.38058,     0.41409,     0.43482,     0.45137,     0.46959,      0.4829,     0.49544,     0.50675,     0.51302,     0.52089,     0.52923,     0.53624,     0.54339,     0.55032,     0.55757,     0.56429,     0.56903,     0.57196,     0.57689,     0.57999,     0.58493,\n",
              "            0.58914,     0.59244,      0.5954,     0.59995,     0.60712,     0.61182,     0.61759,     0.61854,     0.62277,      0.6234,     0.62687,     0.63021,     0.63222,     0.63439,     0.63623,     0.63907,     0.63947,      0.6416,     0.64481,     0.64772,     0.64929,     0.65057,     0.65233,\n",
              "            0.65415,     0.65561,     0.66051,     0.66371,     0.66419,     0.66706,     0.66763,     0.66795,     0.67019,      0.6723,       0.674,     0.67489,     0.67695,     0.67932,     0.68107,     0.68354,      0.6866,     0.68934,     0.69128,     0.69282,     0.69483,     0.69559,     0.69628,\n",
              "            0.69777,     0.69983,       0.701,     0.70212,     0.70385,     0.70669,      0.7082,     0.71078,     0.71127,     0.71312,     0.71425,     0.71508,     0.71594,     0.71715,     0.71761,     0.71813,     0.71908,     0.72016,      0.7217,     0.72328,     0.72327,     0.72476,     0.72623,\n",
              "            0.72826,     0.73086,     0.73182,     0.73398,     0.73493,     0.73559,     0.73867,     0.73961,     0.74093,     0.74244,     0.74378,     0.74518,     0.74608,     0.74658,     0.74857,     0.74929,     0.75294,      0.7537,     0.75414,     0.75564,     0.75641,     0.75868,     0.76056,\n",
              "            0.76142,      0.7613,     0.76061,     0.76326,      0.7639,     0.76442,     0.76498,     0.76626,     0.76758,     0.76846,     0.76975,     0.77077,     0.77171,     0.77239,     0.77272,     0.77304,     0.77335,     0.77363,     0.77391,     0.77427,     0.77492,     0.77768,     0.77859,\n",
              "            0.78158,     0.78401,     0.78447,     0.78639,     0.78922,     0.79206,       0.793,     0.79246,     0.79188,     0.79305,       0.794,     0.79467,     0.79515,      0.7958,     0.79601,     0.79621,     0.79641,     0.79661,     0.79721,     0.79716,     0.79627,     0.79538,     0.79552,\n",
              "            0.79651,     0.79915,      0.7988,     0.79924,     0.80011,     0.80101,     0.80209,     0.80244,     0.80278,     0.80319,     0.80363,     0.80527,     0.80518,     0.80452,     0.80508,     0.80628,     0.80717,     0.80853,     0.80887,     0.80938,     0.81099,     0.81227,     0.81468,\n",
              "            0.81492,     0.81516,      0.8154,     0.81557,     0.81438,     0.81454,     0.81497,     0.81456,     0.81397,     0.81468,     0.81408,     0.81348,     0.81429,     0.81511,      0.8166,     0.81699,     0.81713,     0.81654,     0.81594,     0.81696,      0.8181,     0.81866,     0.81975,\n",
              "            0.82242,     0.82316,     0.82347,     0.82378,     0.82418,     0.82471,     0.82524,     0.82576,     0.82722,     0.82754,     0.82785,     0.82845,     0.82999,     0.83086,     0.83269,     0.83364,     0.83324,     0.83511,     0.83549,     0.83587,     0.83682,     0.83933,     0.83984,\n",
              "            0.84036,     0.84116,     0.84192,     0.84257,     0.84288,     0.84318,     0.84349,     0.84379,      0.8441,     0.84441,     0.84586,     0.84667,     0.84701,     0.84723,     0.84744,     0.84765,     0.84787,     0.84829,     0.84882,     0.84944,     0.85123,     0.85173,     0.85224,\n",
              "            0.85251,     0.85272,     0.85294,     0.85315,     0.85337,     0.85396,     0.85459,     0.85477,     0.85495,     0.85513,     0.85532,      0.8555,     0.85571,     0.85609,     0.85647,     0.85686,     0.85732,     0.85778,     0.85828,     0.85879,     0.85921,     0.85956,     0.85992,\n",
              "            0.86039,     0.86105,     0.86345,     0.86426,     0.86612,     0.86679,     0.86911,     0.86893,     0.86912,      0.8693,     0.86948,     0.86966,     0.86984,     0.87002,     0.87023,     0.87044,     0.87064,     0.87085,     0.87105,     0.87163,     0.87219,      0.8718,     0.87142,\n",
              "            0.87103,     0.87143,     0.87283,     0.87339,     0.87367,     0.87395,     0.87423,     0.87594,     0.87663,     0.87713,     0.87761,     0.87799,     0.87828,     0.87856,     0.87885,     0.88145,     0.88161,     0.88176,     0.88191,     0.88206,     0.88222,     0.88237,     0.88252,\n",
              "            0.88297,     0.88367,     0.88408,     0.88443,     0.88478,     0.88483,     0.88446,      0.8841,     0.88373,     0.88353,     0.88375,     0.88398,      0.8842,     0.88442,     0.88465,     0.88426,     0.88382,     0.88338,     0.88376,     0.88427,     0.88411,     0.88395,     0.88379,\n",
              "            0.88363,     0.88347,     0.88331,     0.88315,     0.88299,     0.88284,     0.88317,      0.8835,     0.88382,     0.88626,     0.88569,     0.88512,     0.88502,     0.88516,     0.88529,     0.88543,     0.88556,     0.88569,     0.88583,     0.88596,      0.8861,      0.8866,     0.88732,\n",
              "            0.88642,     0.88704,     0.88622,     0.88709,     0.88835,     0.88736,     0.88646,     0.88575,     0.88518,      0.8846,     0.88382,     0.88302,     0.88441,     0.88458,     0.88474,     0.88491,     0.88508,     0.88525,     0.88542,     0.88356,     0.88303,     0.88249,     0.88341,\n",
              "            0.88316,     0.88291,     0.88267,     0.88242,     0.88217,     0.88138,     0.88099,     0.88156,     0.88128,       0.881,     0.88072,     0.88044,     0.88016,     0.87975,     0.87932,     0.87889,     0.87858,     0.87883,     0.87909,     0.87934,      0.8796,     0.87928,     0.87765,\n",
              "            0.87676,     0.87722,     0.87769,     0.87995,     0.88064,     0.88107,      0.8815,     0.88126,     0.88083,     0.88039,     0.87998,     0.87982,     0.87965,     0.87949,     0.87933,     0.87916,       0.879,     0.87883,     0.87867,      0.8785,     0.87669,      0.8764,     0.87612,\n",
              "            0.87583,     0.87554,     0.87525,     0.87456,     0.87374,     0.87338,     0.87314,      0.8729,     0.87266,     0.87243,     0.87219,     0.87195,     0.87141,     0.87085,     0.87034,     0.87098,     0.87168,     0.87259,     0.86944,      0.8691,     0.86877,     0.86843,     0.86809,\n",
              "            0.86378,      0.8632,     0.86363,     0.86406,     0.86322,     0.86204,     0.86119,     0.86064,     0.86086,     0.86108,     0.86129,     0.86151,     0.86173,     0.86141,     0.86098,     0.86056,     0.86013,     0.85851,      0.8576,     0.85673,     0.85587,     0.85508,     0.85298,\n",
              "            0.85402,     0.85065,     0.84977,     0.84875,     0.84754,     0.84821,     0.84715,     0.84721,     0.84192,     0.84039,     0.83949,     0.83937,     0.84068,     0.84173,     0.84239,     0.84057,     0.83966,      0.8389,     0.83829,     0.83768,     0.83511,     0.83419,      0.8327,\n",
              "             0.8329,     0.83302,     0.83256,      0.8321,     0.83164,     0.83254,     0.82771,     0.82661,     0.82567,     0.82392,     0.82489,     0.82443,      0.8238,     0.82317,     0.82038,      0.8194,     0.81757,     0.81694,      0.8163,     0.81188,     0.81091,     0.80812,     0.80748,\n",
              "            0.80683,     0.80646,      0.8069,     0.80734,     0.80731,     0.80634,     0.80549,     0.80484,     0.80418,     0.80353,     0.80288,     0.80223,     0.80177,     0.80149,     0.80121,     0.80093,     0.80065,     0.80037,     0.80009,     0.79798,     0.79406,     0.79305,     0.79239,\n",
              "            0.79172,     0.78686,     0.78585,     0.78286,     0.78184,     0.77749,      0.7768,     0.77612,     0.77475,     0.77067,     0.76859,     0.76651,     0.76442,     0.75888,     0.75782,     0.75605,     0.75491,     0.75421,      0.7535,     0.75251,     0.75145,     0.75067,     0.74996,\n",
              "            0.74924,     0.74304,     0.74087,     0.73656,     0.73223,     0.72791,     0.72896,     0.72137,     0.71912,     0.71686,     0.71459,     0.71009,     0.70857,     0.70743,     0.70628,     0.70513,     0.69856,     0.69767,     0.69715,     0.69663,     0.69611,     0.69486,     0.69251,\n",
              "            0.69016,      0.6887,     0.68823,     0.68776,     0.68728,     0.68681,     0.68356,     0.68418,     0.68336,     0.67927,     0.67685,     0.67472,      0.6735,      0.6699,     0.66868,     0.66746,     0.66623,     0.66484,      0.6632,     0.66079,     0.65706,     0.65581,     0.65451,\n",
              "              0.652,     0.64955,     0.64829,     0.64705,     0.64604,     0.64502,     0.64302,     0.63909,     0.63651,     0.63509,     0.63405,     0.63253,     0.62809,     0.62762,     0.62714,     0.62667,     0.62619,     0.62571,     0.62316,     0.62055,     0.61967,     0.61878,     0.61782,\n",
              "            0.61605,     0.61195,     0.61061,     0.60573,     0.60037,     0.58826,     0.58053,     0.57959,     0.57866,     0.57616,     0.57014,     0.56575,     0.56432,     0.56157,     0.55794,     0.55649,     0.54863,     0.54569,     0.54329,      0.5416,     0.54244,     0.54126,     0.54007,\n",
              "            0.53768,     0.53574,     0.53424,     0.53237,     0.53069,     0.52983,     0.52897,     0.52811,      0.5243,     0.52343,     0.52256,     0.51473,     0.51063,     0.50808,     0.50503,     0.50347,     0.49879,     0.49669,     0.49036,     0.48864,     0.47987,     0.47748,     0.47346,\n",
              "            0.47059,     0.46895,     0.45954,     0.45211,     0.45115,     0.45019,     0.44923,     0.44047,     0.43879,     0.43781,     0.43684,     0.43245,     0.43016,     0.42839,       0.427,     0.42567,     0.42468,     0.42368,     0.42269,     0.41988,     0.41467,     0.41174,     0.41033,\n",
              "            0.40891,     0.40569,     0.40037,     0.39376,     0.39134,     0.38312,     0.38207,     0.38102,     0.37923,      0.3769,     0.37622,     0.37555,     0.37488,     0.37421,     0.37353,     0.36931,     0.36745,     0.36411,      0.3595,     0.35673,     0.35463,     0.35337,      0.3521,\n",
              "            0.35031,     0.34777,     0.33555,     0.33469,     0.33382,     0.33296,      0.3279,     0.32633,     0.32449,     0.32094,     0.31981,     0.31868,     0.31755,     0.31436,     0.31137,     0.30924,     0.30844,     0.30764,     0.30683,     0.30603,     0.30226,     0.30013,     0.29851,\n",
              "             0.2967,     0.29466,     0.29284,     0.29121,     0.28897,     0.28447,     0.28241,     0.28061,     0.27895,     0.27676,      0.2685,     0.26319,     0.26055,     0.25961,     0.25867,     0.25772,     0.25386,     0.25042,     0.24756,     0.24469,     0.23945,     0.23848,     0.23752,\n",
              "            0.23655,     0.22696,     0.22586,     0.22476,     0.22366,      0.2213,      0.2186,     0.21682,     0.21504,     0.20413,     0.20187,     0.19773,     0.19511,     0.19283,     0.18848,       0.186,     0.18369,     0.17846,     0.17714,      0.1758,     0.16979,     0.16665,     0.15889,\n",
              "             0.1561,     0.15557,     0.15504,     0.15451,     0.15398,     0.15345,     0.15292,     0.15239,     0.15185,     0.14978,     0.14312,     0.13707,     0.13626,     0.13545,     0.13464,     0.13383,     0.13301,     0.13084,     0.12696,     0.12108,     0.11778,     0.11447,     0.11205,\n",
              "            0.11005,     0.10793,     0.10542,     0.10342,      0.1027,     0.10198,     0.10126,     0.10054,    0.099815,    0.099092,    0.098541,    0.098192,    0.097842,    0.097493,    0.097143,    0.096793,    0.096443,    0.096093,    0.095743,    0.095393,    0.095043,    0.094692,    0.094342,\n",
              "           0.093991,    0.090554,      0.0829,    0.080324,    0.078377,    0.077436,    0.076494,    0.075552,    0.074609,    0.068547,    0.065931,      0.0634,    0.062086,    0.060771,    0.059453,    0.058357,    0.058369,    0.058381,    0.058393,    0.058404,    0.058415,    0.058426,    0.058437,\n",
              "           0.058448,    0.058459,     0.05847,     0.05848,     0.05849,    0.058501,    0.053295,     0.05152,    0.049741,    0.047959,    0.046174,    0.044386,    0.042293,    0.038699,    0.026945,    0.026568,    0.026191,    0.025814,    0.025436,    0.025059,    0.024681,    0.024303,    0.023925,\n",
              "           0.023547,    0.023168,     0.02279,    0.022411,    0.022032,    0.021291,    0.016209,    0.015203,    0.014197,     0.01319,    0.012182,    0.011172,   0.0068382,           0,           0,           0,           0,           0,           0,           0,           0,           0,           0,\n",
              "                  0,           0,           0,           0,           0,           0,           0,           0,           0,           0,           0,           0,           0,           0,           0,           0,           0,           0,           0,           0,           0,           0,           0,\n",
              "                  0,           0,           0,           0,           0,           0,           0,           0,           0,           0,           0,           0,           0,           0,           0,           0,           0,           0,           0,           0,           0,           0,           0,\n",
              "                  0,           0,           0,           0,           0,           0,           0,           0,           0,           0,           0,           0,           0,           0,           0,           0,           0,           0,           0,           0,           0,           0,           0,\n",
              "                  0,           0,           0,           0,           0,           0,           0,           0,           0,           0,           0]]), 'Confidence', 'F1'], [array([          0,    0.001001,    0.002002,    0.003003,    0.004004,    0.005005,    0.006006,    0.007007,    0.008008,    0.009009,     0.01001,    0.011011,    0.012012,    0.013013,    0.014014,    0.015015,    0.016016,    0.017017,    0.018018,    0.019019,     0.02002,    0.021021,    0.022022,    0.023023,\n",
              "          0.024024,    0.025025,    0.026026,    0.027027,    0.028028,    0.029029,     0.03003,    0.031031,    0.032032,    0.033033,    0.034034,    0.035035,    0.036036,    0.037037,    0.038038,    0.039039,     0.04004,    0.041041,    0.042042,    0.043043,    0.044044,    0.045045,    0.046046,    0.047047,\n",
              "          0.048048,    0.049049,     0.05005,    0.051051,    0.052052,    0.053053,    0.054054,    0.055055,    0.056056,    0.057057,    0.058058,    0.059059,     0.06006,    0.061061,    0.062062,    0.063063,    0.064064,    0.065065,    0.066066,    0.067067,    0.068068,    0.069069,     0.07007,    0.071071,\n",
              "          0.072072,    0.073073,    0.074074,    0.075075,    0.076076,    0.077077,    0.078078,    0.079079,     0.08008,    0.081081,    0.082082,    0.083083,    0.084084,    0.085085,    0.086086,    0.087087,    0.088088,    0.089089,     0.09009,    0.091091,    0.092092,    0.093093,    0.094094,    0.095095,\n",
              "          0.096096,    0.097097,    0.098098,    0.099099,      0.1001,      0.1011,      0.1021,      0.1031,      0.1041,     0.10511,     0.10611,     0.10711,     0.10811,     0.10911,     0.11011,     0.11111,     0.11211,     0.11311,     0.11411,     0.11512,     0.11612,     0.11712,     0.11812,     0.11912,\n",
              "           0.12012,     0.12112,     0.12212,     0.12312,     0.12412,     0.12513,     0.12613,     0.12713,     0.12813,     0.12913,     0.13013,     0.13113,     0.13213,     0.13313,     0.13413,     0.13514,     0.13614,     0.13714,     0.13814,     0.13914,     0.14014,     0.14114,     0.14214,     0.14314,\n",
              "           0.14414,     0.14515,     0.14615,     0.14715,     0.14815,     0.14915,     0.15015,     0.15115,     0.15215,     0.15315,     0.15415,     0.15516,     0.15616,     0.15716,     0.15816,     0.15916,     0.16016,     0.16116,     0.16216,     0.16316,     0.16416,     0.16517,     0.16617,     0.16717,\n",
              "           0.16817,     0.16917,     0.17017,     0.17117,     0.17217,     0.17317,     0.17417,     0.17518,     0.17618,     0.17718,     0.17818,     0.17918,     0.18018,     0.18118,     0.18218,     0.18318,     0.18418,     0.18519,     0.18619,     0.18719,     0.18819,     0.18919,     0.19019,     0.19119,\n",
              "           0.19219,     0.19319,     0.19419,      0.1952,      0.1962,      0.1972,      0.1982,      0.1992,      0.2002,      0.2012,      0.2022,      0.2032,      0.2042,     0.20521,     0.20621,     0.20721,     0.20821,     0.20921,     0.21021,     0.21121,     0.21221,     0.21321,     0.21421,     0.21522,\n",
              "           0.21622,     0.21722,     0.21822,     0.21922,     0.22022,     0.22122,     0.22222,     0.22322,     0.22422,     0.22523,     0.22623,     0.22723,     0.22823,     0.22923,     0.23023,     0.23123,     0.23223,     0.23323,     0.23423,     0.23524,     0.23624,     0.23724,     0.23824,     0.23924,\n",
              "           0.24024,     0.24124,     0.24224,     0.24324,     0.24424,     0.24525,     0.24625,     0.24725,     0.24825,     0.24925,     0.25025,     0.25125,     0.25225,     0.25325,     0.25425,     0.25526,     0.25626,     0.25726,     0.25826,     0.25926,     0.26026,     0.26126,     0.26226,     0.26326,\n",
              "           0.26426,     0.26527,     0.26627,     0.26727,     0.26827,     0.26927,     0.27027,     0.27127,     0.27227,     0.27327,     0.27427,     0.27528,     0.27628,     0.27728,     0.27828,     0.27928,     0.28028,     0.28128,     0.28228,     0.28328,     0.28428,     0.28529,     0.28629,     0.28729,\n",
              "           0.28829,     0.28929,     0.29029,     0.29129,     0.29229,     0.29329,     0.29429,      0.2953,      0.2963,      0.2973,      0.2983,      0.2993,      0.3003,      0.3013,      0.3023,      0.3033,      0.3043,     0.30531,     0.30631,     0.30731,     0.30831,     0.30931,     0.31031,     0.31131,\n",
              "           0.31231,     0.31331,     0.31431,     0.31532,     0.31632,     0.31732,     0.31832,     0.31932,     0.32032,     0.32132,     0.32232,     0.32332,     0.32432,     0.32533,     0.32633,     0.32733,     0.32833,     0.32933,     0.33033,     0.33133,     0.33233,     0.33333,     0.33433,     0.33534,\n",
              "           0.33634,     0.33734,     0.33834,     0.33934,     0.34034,     0.34134,     0.34234,     0.34334,     0.34434,     0.34535,     0.34635,     0.34735,     0.34835,     0.34935,     0.35035,     0.35135,     0.35235,     0.35335,     0.35435,     0.35536,     0.35636,     0.35736,     0.35836,     0.35936,\n",
              "           0.36036,     0.36136,     0.36236,     0.36336,     0.36436,     0.36537,     0.36637,     0.36737,     0.36837,     0.36937,     0.37037,     0.37137,     0.37237,     0.37337,     0.37437,     0.37538,     0.37638,     0.37738,     0.37838,     0.37938,     0.38038,     0.38138,     0.38238,     0.38338,\n",
              "           0.38438,     0.38539,     0.38639,     0.38739,     0.38839,     0.38939,     0.39039,     0.39139,     0.39239,     0.39339,     0.39439,      0.3954,      0.3964,      0.3974,      0.3984,      0.3994,      0.4004,      0.4014,      0.4024,      0.4034,      0.4044,     0.40541,     0.40641,     0.40741,\n",
              "           0.40841,     0.40941,     0.41041,     0.41141,     0.41241,     0.41341,     0.41441,     0.41542,     0.41642,     0.41742,     0.41842,     0.41942,     0.42042,     0.42142,     0.42242,     0.42342,     0.42442,     0.42543,     0.42643,     0.42743,     0.42843,     0.42943,     0.43043,     0.43143,\n",
              "           0.43243,     0.43343,     0.43443,     0.43544,     0.43644,     0.43744,     0.43844,     0.43944,     0.44044,     0.44144,     0.44244,     0.44344,     0.44444,     0.44545,     0.44645,     0.44745,     0.44845,     0.44945,     0.45045,     0.45145,     0.45245,     0.45345,     0.45445,     0.45546,\n",
              "           0.45646,     0.45746,     0.45846,     0.45946,     0.46046,     0.46146,     0.46246,     0.46346,     0.46446,     0.46547,     0.46647,     0.46747,     0.46847,     0.46947,     0.47047,     0.47147,     0.47247,     0.47347,     0.47447,     0.47548,     0.47648,     0.47748,     0.47848,     0.47948,\n",
              "           0.48048,     0.48148,     0.48248,     0.48348,     0.48448,     0.48549,     0.48649,     0.48749,     0.48849,     0.48949,     0.49049,     0.49149,     0.49249,     0.49349,     0.49449,      0.4955,      0.4965,      0.4975,      0.4985,      0.4995,      0.5005,      0.5015,      0.5025,      0.5035,\n",
              "            0.5045,     0.50551,     0.50651,     0.50751,     0.50851,     0.50951,     0.51051,     0.51151,     0.51251,     0.51351,     0.51451,     0.51552,     0.51652,     0.51752,     0.51852,     0.51952,     0.52052,     0.52152,     0.52252,     0.52352,     0.52452,     0.52553,     0.52653,     0.52753,\n",
              "           0.52853,     0.52953,     0.53053,     0.53153,     0.53253,     0.53353,     0.53453,     0.53554,     0.53654,     0.53754,     0.53854,     0.53954,     0.54054,     0.54154,     0.54254,     0.54354,     0.54454,     0.54555,     0.54655,     0.54755,     0.54855,     0.54955,     0.55055,     0.55155,\n",
              "           0.55255,     0.55355,     0.55455,     0.55556,     0.55656,     0.55756,     0.55856,     0.55956,     0.56056,     0.56156,     0.56256,     0.56356,     0.56456,     0.56557,     0.56657,     0.56757,     0.56857,     0.56957,     0.57057,     0.57157,     0.57257,     0.57357,     0.57457,     0.57558,\n",
              "           0.57658,     0.57758,     0.57858,     0.57958,     0.58058,     0.58158,     0.58258,     0.58358,     0.58458,     0.58559,     0.58659,     0.58759,     0.58859,     0.58959,     0.59059,     0.59159,     0.59259,     0.59359,     0.59459,      0.5956,      0.5966,      0.5976,      0.5986,      0.5996,\n",
              "            0.6006,      0.6016,      0.6026,      0.6036,      0.6046,     0.60561,     0.60661,     0.60761,     0.60861,     0.60961,     0.61061,     0.61161,     0.61261,     0.61361,     0.61461,     0.61562,     0.61662,     0.61762,     0.61862,     0.61962,     0.62062,     0.62162,     0.62262,     0.62362,\n",
              "           0.62462,     0.62563,     0.62663,     0.62763,     0.62863,     0.62963,     0.63063,     0.63163,     0.63263,     0.63363,     0.63463,     0.63564,     0.63664,     0.63764,     0.63864,     0.63964,     0.64064,     0.64164,     0.64264,     0.64364,     0.64464,     0.64565,     0.64665,     0.64765,\n",
              "           0.64865,     0.64965,     0.65065,     0.65165,     0.65265,     0.65365,     0.65465,     0.65566,     0.65666,     0.65766,     0.65866,     0.65966,     0.66066,     0.66166,     0.66266,     0.66366,     0.66466,     0.66567,     0.66667,     0.66767,     0.66867,     0.66967,     0.67067,     0.67167,\n",
              "           0.67267,     0.67367,     0.67467,     0.67568,     0.67668,     0.67768,     0.67868,     0.67968,     0.68068,     0.68168,     0.68268,     0.68368,     0.68468,     0.68569,     0.68669,     0.68769,     0.68869,     0.68969,     0.69069,     0.69169,     0.69269,     0.69369,     0.69469,      0.6957,\n",
              "            0.6967,      0.6977,      0.6987,      0.6997,      0.7007,      0.7017,      0.7027,      0.7037,      0.7047,     0.70571,     0.70671,     0.70771,     0.70871,     0.70971,     0.71071,     0.71171,     0.71271,     0.71371,     0.71471,     0.71572,     0.71672,     0.71772,     0.71872,     0.71972,\n",
              "           0.72072,     0.72172,     0.72272,     0.72372,     0.72472,     0.72573,     0.72673,     0.72773,     0.72873,     0.72973,     0.73073,     0.73173,     0.73273,     0.73373,     0.73473,     0.73574,     0.73674,     0.73774,     0.73874,     0.73974,     0.74074,     0.74174,     0.74274,     0.74374,\n",
              "           0.74474,     0.74575,     0.74675,     0.74775,     0.74875,     0.74975,     0.75075,     0.75175,     0.75275,     0.75375,     0.75475,     0.75576,     0.75676,     0.75776,     0.75876,     0.75976,     0.76076,     0.76176,     0.76276,     0.76376,     0.76476,     0.76577,     0.76677,     0.76777,\n",
              "           0.76877,     0.76977,     0.77077,     0.77177,     0.77277,     0.77377,     0.77477,     0.77578,     0.77678,     0.77778,     0.77878,     0.77978,     0.78078,     0.78178,     0.78278,     0.78378,     0.78478,     0.78579,     0.78679,     0.78779,     0.78879,     0.78979,     0.79079,     0.79179,\n",
              "           0.79279,     0.79379,     0.79479,      0.7958,      0.7968,      0.7978,      0.7988,      0.7998,      0.8008,      0.8018,      0.8028,      0.8038,      0.8048,     0.80581,     0.80681,     0.80781,     0.80881,     0.80981,     0.81081,     0.81181,     0.81281,     0.81381,     0.81481,     0.81582,\n",
              "           0.81682,     0.81782,     0.81882,     0.81982,     0.82082,     0.82182,     0.82282,     0.82382,     0.82482,     0.82583,     0.82683,     0.82783,     0.82883,     0.82983,     0.83083,     0.83183,     0.83283,     0.83383,     0.83483,     0.83584,     0.83684,     0.83784,     0.83884,     0.83984,\n",
              "           0.84084,     0.84184,     0.84284,     0.84384,     0.84484,     0.84585,     0.84685,     0.84785,     0.84885,     0.84985,     0.85085,     0.85185,     0.85285,     0.85385,     0.85485,     0.85586,     0.85686,     0.85786,     0.85886,     0.85986,     0.86086,     0.86186,     0.86286,     0.86386,\n",
              "           0.86486,     0.86587,     0.86687,     0.86787,     0.86887,     0.86987,     0.87087,     0.87187,     0.87287,     0.87387,     0.87487,     0.87588,     0.87688,     0.87788,     0.87888,     0.87988,     0.88088,     0.88188,     0.88288,     0.88388,     0.88488,     0.88589,     0.88689,     0.88789,\n",
              "           0.88889,     0.88989,     0.89089,     0.89189,     0.89289,     0.89389,     0.89489,      0.8959,      0.8969,      0.8979,      0.8989,      0.8999,      0.9009,      0.9019,      0.9029,      0.9039,      0.9049,     0.90591,     0.90691,     0.90791,     0.90891,     0.90991,     0.91091,     0.91191,\n",
              "           0.91291,     0.91391,     0.91491,     0.91592,     0.91692,     0.91792,     0.91892,     0.91992,     0.92092,     0.92192,     0.92292,     0.92392,     0.92492,     0.92593,     0.92693,     0.92793,     0.92893,     0.92993,     0.93093,     0.93193,     0.93293,     0.93393,     0.93493,     0.93594,\n",
              "           0.93694,     0.93794,     0.93894,     0.93994,     0.94094,     0.94194,     0.94294,     0.94394,     0.94494,     0.94595,     0.94695,     0.94795,     0.94895,     0.94995,     0.95095,     0.95195,     0.95295,     0.95395,     0.95495,     0.95596,     0.95696,     0.95796,     0.95896,     0.95996,\n",
              "           0.96096,     0.96196,     0.96296,     0.96396,     0.96496,     0.96597,     0.96697,     0.96797,     0.96897,     0.96997,     0.97097,     0.97197,     0.97297,     0.97397,     0.97497,     0.97598,     0.97698,     0.97798,     0.97898,     0.97998,     0.98098,     0.98198,     0.98298,     0.98398,\n",
              "           0.98498,     0.98599,     0.98699,     0.98799,     0.98899,     0.98999,     0.99099,     0.99199,     0.99299,     0.99399,     0.99499,       0.996,       0.997,       0.998,       0.999,           1]), array([[    0.19346,     0.19346,     0.23691,     0.26365,     0.28069,     0.29463,     0.31064,      0.3224,     0.33368,     0.34402,     0.34982,     0.35718,     0.36507,     0.37178,     0.37869,     0.38589,     0.39306,     0.39978,     0.40455,     0.40752,     0.41254,     0.41572,     0.42081,\n",
              "            0.42518,     0.42863,     0.43229,      0.4371,     0.44476,     0.44982,     0.45609,     0.45775,     0.46317,      0.4644,     0.46827,     0.47201,     0.47495,      0.4774,     0.47949,     0.48272,     0.48318,     0.48562,      0.4893,     0.49267,     0.49449,     0.49597,     0.49802,\n",
              "            0.50015,     0.50185,     0.50841,     0.51222,      0.5136,     0.51704,     0.51772,     0.51811,     0.52081,     0.52336,     0.52542,     0.52651,     0.52902,     0.53192,     0.53407,     0.53712,      0.5409,     0.54431,     0.54674,     0.54866,     0.55119,     0.55215,     0.55302,\n",
              "            0.55489,     0.55751,       0.559,     0.56042,     0.56263,     0.56626,      0.5682,     0.57153,     0.57217,     0.57456,     0.57603,     0.57712,     0.57824,     0.57982,     0.58042,     0.58109,     0.58235,     0.58376,      0.5858,     0.58788,     0.58893,     0.59092,     0.59287,\n",
              "            0.59558,     0.59907,     0.60037,     0.60328,     0.60455,     0.60546,     0.60964,     0.61092,     0.61273,     0.61479,     0.61663,     0.61856,      0.6198,     0.62048,     0.62325,     0.62425,     0.62933,     0.63038,       0.631,      0.6331,     0.63419,     0.63739,     0.64004,\n",
              "            0.64127,     0.64146,     0.64112,     0.64518,     0.64609,     0.64683,     0.64765,     0.64948,     0.65137,     0.65265,     0.65452,     0.65599,     0.65734,     0.65834,     0.65881,     0.65929,     0.65973,     0.66014,     0.66054,     0.66107,     0.66202,     0.66605,      0.6674,\n",
              "             0.6718,      0.6754,     0.67609,     0.67894,     0.68317,     0.68744,     0.68886,     0.68864,     0.68838,     0.69043,     0.69187,     0.69289,     0.69362,     0.69614,     0.69645,     0.69676,     0.69707,     0.69738,     0.69829,     0.69876,     0.69836,     0.69797,     0.69882,\n",
              "            0.70034,     0.70444,     0.70471,     0.70618,     0.70754,     0.70895,     0.71065,     0.71119,     0.71172,     0.71237,     0.71306,     0.71564,     0.71617,     0.71612,     0.71702,     0.71892,     0.72033,      0.7225,     0.72306,     0.72387,     0.72644,     0.73023,     0.73414,\n",
              "            0.73453,     0.73492,     0.73531,     0.73566,     0.73518,     0.73568,     0.73639,     0.73648,     0.73654,     0.73776,     0.73752,     0.73728,     0.73888,     0.74023,     0.74268,     0.74333,     0.74376,     0.74352,     0.74329,     0.74514,     0.74704,     0.74797,     0.74978,\n",
              "            0.75427,     0.75551,     0.75604,     0.75656,     0.75723,     0.75813,     0.75902,     0.75991,     0.76239,     0.76292,     0.76346,     0.76447,      0.7671,     0.76859,     0.77172,     0.77336,     0.77424,     0.77793,     0.77858,     0.77924,      0.7809,     0.78527,     0.78618,\n",
              "            0.78709,      0.7885,     0.78983,     0.79097,     0.79151,     0.79205,     0.79259,     0.79313,     0.79367,     0.79421,     0.79679,     0.79824,     0.79884,     0.79922,      0.7996,     0.79998,     0.80036,     0.80111,     0.80205,     0.80317,     0.80638,     0.80728,     0.80818,\n",
              "            0.80867,     0.80906,     0.80945,     0.80984,     0.81022,     0.81129,     0.81242,     0.81275,     0.81308,     0.81341,     0.81374,     0.81407,     0.81445,     0.81514,     0.81583,     0.81655,     0.81738,     0.81821,     0.81912,     0.82005,     0.82082,     0.82146,     0.82211,\n",
              "            0.82298,     0.82419,      0.8286,     0.83009,     0.83352,     0.83476,     0.83925,     0.84114,     0.84148,     0.84182,     0.84216,      0.8425,     0.84284,     0.84318,     0.84357,     0.84396,     0.84434,     0.84473,     0.84512,      0.8462,      0.8475,      0.8474,      0.8473,\n",
              "             0.8472,     0.84827,     0.85092,     0.85198,     0.85252,     0.85306,     0.85359,     0.85687,     0.85818,     0.85913,     0.86006,      0.8608,     0.86135,     0.86189,     0.86244,     0.86748,     0.86777,     0.86807,     0.86836,     0.86866,     0.86896,     0.86925,     0.86955,\n",
              "            0.87042,     0.87178,     0.87257,     0.87325,     0.87394,      0.8743,     0.87422,     0.87413,     0.87405,     0.87412,     0.87455,     0.87499,     0.87543,     0.87587,      0.8763,     0.87626,     0.87616,     0.87606,     0.87721,     0.87836,     0.87833,     0.87829,     0.87826,\n",
              "            0.87822,     0.87819,     0.87815,     0.87812,     0.87808,     0.87805,     0.87871,     0.87936,     0.88001,      0.8852,     0.88509,     0.88497,     0.88511,     0.88538,     0.88565,     0.88592,     0.88619,     0.88646,     0.88673,       0.887,     0.88727,     0.88828,     0.88972,\n",
              "            0.89068,     0.89195,      0.8931,     0.89486,     0.89742,     0.89882,     0.89866,     0.89853,     0.89842,     0.89831,     0.89817,     0.89802,     0.90091,     0.90126,     0.90161,     0.90197,     0.90232,     0.90267,     0.90302,     0.90279,      0.9027,      0.9026,     0.90514,\n",
              "             0.9051,     0.90505,     0.90501,     0.90497,     0.90492,     0.90479,     0.90576,     0.90722,     0.90718,     0.90713,     0.90708,     0.90703,     0.90698,     0.90691,     0.90684,     0.90677,      0.9068,     0.90735,     0.90789,     0.90843,     0.90898,     0.90927,       0.909,\n",
              "            0.90917,     0.91017,     0.91117,     0.91606,     0.91756,     0.91849,     0.91943,     0.91959,     0.91953,     0.91946,      0.9194,     0.91938,     0.91935,     0.91933,      0.9193,     0.91928,     0.91925,     0.91923,      0.9192,     0.91918,      0.9189,     0.91886,     0.91882,\n",
              "            0.91877,     0.91873,     0.91869,     0.91858,     0.91846,      0.9184,     0.91836,     0.91833,     0.91829,     0.91826,     0.91822,     0.91818,      0.9181,     0.91802,     0.91798,     0.91942,     0.92097,     0.92351,     0.92306,     0.92301,     0.92296,     0.92291,     0.92286,\n",
              "            0.92224,     0.92263,     0.92362,      0.9246,     0.92486,     0.92469,     0.92457,     0.92755,     0.92805,     0.92856,     0.92906,     0.92956,     0.93007,     0.93011,     0.93006,        0.93,     0.92994,     0.92973,      0.9296,     0.92949,     0.92937,     0.92937,     0.93201,\n",
              "            0.93483,     0.93441,      0.9343,     0.93418,     0.93457,     0.93704,     0.93762,      0.9429,     0.94232,     0.94215,     0.94204,     0.94315,     0.94646,     0.94913,      0.9508,     0.95152,     0.95143,     0.95136,      0.9513,     0.95124,       0.951,     0.95091,     0.95077,\n",
              "            0.95293,     0.95404,     0.95399,     0.95395,     0.95391,     0.95657,     0.95686,     0.95677,     0.95669,     0.95654,      0.9597,     0.95995,      0.9599,     0.95985,     0.95963,     0.95955,     0.95941,     0.95936,      0.9593,     0.95894,     0.95887,     0.95864,     0.95858,\n",
              "            0.95853,     0.95881,     0.96005,     0.96129,      0.9621,     0.96202,     0.96196,     0.96191,     0.96186,     0.96181,     0.96176,     0.96171,     0.96167,     0.96165,     0.96163,     0.96161,     0.96159,     0.96157,     0.96155,     0.96502,     0.96474,     0.96467,     0.96462,\n",
              "            0.96458,     0.96423,     0.96415,     0.96394,     0.96386,     0.96354,     0.96349,     0.96344,     0.96334,     0.96303,     0.96288,     0.96272,     0.96256,     0.96213,     0.96205,     0.96191,     0.96183,     0.96177,     0.96171,     0.96164,     0.96155,     0.96149,     0.96144,\n",
              "            0.96138,     0.96088,     0.96071,     0.96036,        0.96,      0.9597,     0.96395,     0.96338,      0.9632,     0.96303,     0.96285,      0.9625,     0.96238,     0.96229,      0.9622,     0.96211,     0.96158,      0.9615,     0.96146,     0.96142,     0.96138,     0.96127,     0.96108,\n",
              "            0.96089,     0.96077,     0.96073,     0.96069,     0.96065,     0.96061,     0.96649,     0.96898,     0.96978,     0.96951,     0.96935,     0.96921,     0.96913,     0.96889,     0.96881,     0.96872,     0.96864,     0.96854,     0.96843,     0.96826,       0.968,     0.96792,     0.97297,\n",
              "            0.97282,     0.97267,      0.9726,     0.97252,     0.97246,      0.9724,     0.97597,     0.97744,     0.97731,     0.97723,     0.97718,      0.9771,     0.97687,     0.97685,     0.97682,      0.9768,     0.97677,     0.97675,     0.97661,     0.97647,     0.97642,     0.97637,     0.97632,\n",
              "            0.97623,       0.976,     0.97593,     0.97566,     0.97535,     0.97464,     0.97418,     0.97412,     0.97406,     0.97391,     0.97353,     0.97325,     0.97316,     0.97298,     0.97275,     0.97265,     0.97212,     0.97192,     0.97176,     0.97227,     0.97856,      0.9785,     0.97844,\n",
              "            0.97831,      0.9782,     0.97812,     0.97802,     0.97793,     0.97788,     0.97783,     0.97778,     0.97757,     0.97752,     0.97747,     0.97702,      0.9805,     0.98425,     0.98412,     0.98406,     0.98386,     0.98377,     0.98873,     0.99162,     0.99142,     0.99136,     0.99127,\n",
              "             0.9912,     0.99116,     0.99092,     0.99073,     0.99071,     0.99068,     0.99066,     0.99042,     0.99037,     0.99034,     0.99032,     0.99019,     0.99013,     0.99008,     0.99003,        0.99,     0.98997,     0.98994,     0.98991,     0.98982,     0.98966,     0.98957,     0.98953,\n",
              "            0.98948,     0.98938,      0.9892,     0.98898,     0.98889,      0.9886,     0.98856,     0.98852,     0.98846,     0.98837,     0.98834,     0.98832,     0.98829,     0.98827,     0.98824,     0.98808,     0.98801,     0.98787,     0.98769,     0.98757,     0.98748,     0.98743,     0.98737,\n",
              "             0.9873,     0.98719,     0.98663,     0.98659,     0.98655,      0.9865,     0.98626,     0.98618,     0.98609,     0.98591,     0.98585,     0.98579,     0.98573,     0.98556,      0.9854,     0.98528,     0.98524,     0.98519,     0.98515,      0.9851,     0.98489,     0.98476,     0.98466,\n",
              "            0.98456,     0.98443,     0.98432,     0.98422,     0.98408,     0.98379,     0.98365,     0.98353,     0.98342,     0.98327,     0.98268,     0.98229,     0.98209,     0.98201,     0.98194,     0.98186,     0.98155,     0.98127,     0.98102,     0.98078,     0.98031,     0.98022,     0.98013,\n",
              "            0.98004,      0.9791,     0.97899,     0.97887,     0.97876,     0.97851,     0.97822,     0.97802,     0.97782,     0.97652,     0.97624,      0.9757,     0.97534,     0.97503,     0.97441,     0.97404,     0.97369,     0.97287,     0.97265,     0.97243,     0.97139,     0.97082,     0.96931,\n",
              "            0.96873,     0.96862,      0.9685,     0.96839,     0.96827,     0.96816,     0.96804,     0.96793,     0.96782,     0.96734,     0.96576,     0.96419,     0.96397,     0.96374,     0.96352,     0.96329,     0.96306,     0.96242,     0.96124,     0.95931,     0.95816,     0.95692,     0.95597,\n",
              "            0.95516,     0.95428,     0.95317,     0.95228,     0.95193,     0.95158,     0.95123,     0.95089,     0.95054,     0.95019,     0.94991,     0.94973,     0.94954,     0.94936,     0.94917,     0.94898,      0.9488,     0.94861,     0.94843,     0.94824,     0.94805,     0.94787,     0.94768,\n",
              "             0.9475,     0.94549,     0.94054,     0.93866,      0.9372,     0.93642,     0.93565,     0.93487,     0.93409,     0.92851,      0.9257,     0.92296,     0.92132,     0.91968,     0.91803,     0.91765,     0.92354,     0.92944,     0.93533,     0.94122,     0.94711,       0.953,     0.95889,\n",
              "            0.96478,     0.97067,     0.97656,     0.98245,     0.98834,     0.99424,           1,           1,           1,           1,           1,           1,           1,           1,           1,           1,           1,           1,           1,           1,           1,           1,           1,\n",
              "                  1,           1,           1,           1,           1,           1,           1,           1,           1,           1,           1,           1,           1,           1,           1,           1,           1,           1,           1,           1,           1,           1,           1,\n",
              "                  1,           1,           1,           1,           1,           1,           1,           1,           1,           1,           1,           1,           1,           1,           1,           1,           1,           1,           1,           1,           1,           1,           1,\n",
              "                  1,           1,           1,           1,           1,           1,           1,           1,           1,           1,           1,           1,           1,           1,           1,           1,           1,           1,           1,           1,           1,           1,           1,\n",
              "                  1,           1,           1,           1,           1,           1,           1,           1,           1,           1,           1,           1,           1,           1,           1,           1,           1,           1,           1,           1,           1,           1,           1,\n",
              "                  1,           1,           1,           1,           1,           1,           1,           1,           1,           1,           1]]), 'Confidence', 'Precision'], [array([          0,    0.001001,    0.002002,    0.003003,    0.004004,    0.005005,    0.006006,    0.007007,    0.008008,    0.009009,     0.01001,    0.011011,    0.012012,    0.013013,    0.014014,    0.015015,    0.016016,    0.017017,    0.018018,    0.019019,     0.02002,    0.021021,    0.022022,    0.023023,\n",
              "          0.024024,    0.025025,    0.026026,    0.027027,    0.028028,    0.029029,     0.03003,    0.031031,    0.032032,    0.033033,    0.034034,    0.035035,    0.036036,    0.037037,    0.038038,    0.039039,     0.04004,    0.041041,    0.042042,    0.043043,    0.044044,    0.045045,    0.046046,    0.047047,\n",
              "          0.048048,    0.049049,     0.05005,    0.051051,    0.052052,    0.053053,    0.054054,    0.055055,    0.056056,    0.057057,    0.058058,    0.059059,     0.06006,    0.061061,    0.062062,    0.063063,    0.064064,    0.065065,    0.066066,    0.067067,    0.068068,    0.069069,     0.07007,    0.071071,\n",
              "          0.072072,    0.073073,    0.074074,    0.075075,    0.076076,    0.077077,    0.078078,    0.079079,     0.08008,    0.081081,    0.082082,    0.083083,    0.084084,    0.085085,    0.086086,    0.087087,    0.088088,    0.089089,     0.09009,    0.091091,    0.092092,    0.093093,    0.094094,    0.095095,\n",
              "          0.096096,    0.097097,    0.098098,    0.099099,      0.1001,      0.1011,      0.1021,      0.1031,      0.1041,     0.10511,     0.10611,     0.10711,     0.10811,     0.10911,     0.11011,     0.11111,     0.11211,     0.11311,     0.11411,     0.11512,     0.11612,     0.11712,     0.11812,     0.11912,\n",
              "           0.12012,     0.12112,     0.12212,     0.12312,     0.12412,     0.12513,     0.12613,     0.12713,     0.12813,     0.12913,     0.13013,     0.13113,     0.13213,     0.13313,     0.13413,     0.13514,     0.13614,     0.13714,     0.13814,     0.13914,     0.14014,     0.14114,     0.14214,     0.14314,\n",
              "           0.14414,     0.14515,     0.14615,     0.14715,     0.14815,     0.14915,     0.15015,     0.15115,     0.15215,     0.15315,     0.15415,     0.15516,     0.15616,     0.15716,     0.15816,     0.15916,     0.16016,     0.16116,     0.16216,     0.16316,     0.16416,     0.16517,     0.16617,     0.16717,\n",
              "           0.16817,     0.16917,     0.17017,     0.17117,     0.17217,     0.17317,     0.17417,     0.17518,     0.17618,     0.17718,     0.17818,     0.17918,     0.18018,     0.18118,     0.18218,     0.18318,     0.18418,     0.18519,     0.18619,     0.18719,     0.18819,     0.18919,     0.19019,     0.19119,\n",
              "           0.19219,     0.19319,     0.19419,      0.1952,      0.1962,      0.1972,      0.1982,      0.1992,      0.2002,      0.2012,      0.2022,      0.2032,      0.2042,     0.20521,     0.20621,     0.20721,     0.20821,     0.20921,     0.21021,     0.21121,     0.21221,     0.21321,     0.21421,     0.21522,\n",
              "           0.21622,     0.21722,     0.21822,     0.21922,     0.22022,     0.22122,     0.22222,     0.22322,     0.22422,     0.22523,     0.22623,     0.22723,     0.22823,     0.22923,     0.23023,     0.23123,     0.23223,     0.23323,     0.23423,     0.23524,     0.23624,     0.23724,     0.23824,     0.23924,\n",
              "           0.24024,     0.24124,     0.24224,     0.24324,     0.24424,     0.24525,     0.24625,     0.24725,     0.24825,     0.24925,     0.25025,     0.25125,     0.25225,     0.25325,     0.25425,     0.25526,     0.25626,     0.25726,     0.25826,     0.25926,     0.26026,     0.26126,     0.26226,     0.26326,\n",
              "           0.26426,     0.26527,     0.26627,     0.26727,     0.26827,     0.26927,     0.27027,     0.27127,     0.27227,     0.27327,     0.27427,     0.27528,     0.27628,     0.27728,     0.27828,     0.27928,     0.28028,     0.28128,     0.28228,     0.28328,     0.28428,     0.28529,     0.28629,     0.28729,\n",
              "           0.28829,     0.28929,     0.29029,     0.29129,     0.29229,     0.29329,     0.29429,      0.2953,      0.2963,      0.2973,      0.2983,      0.2993,      0.3003,      0.3013,      0.3023,      0.3033,      0.3043,     0.30531,     0.30631,     0.30731,     0.30831,     0.30931,     0.31031,     0.31131,\n",
              "           0.31231,     0.31331,     0.31431,     0.31532,     0.31632,     0.31732,     0.31832,     0.31932,     0.32032,     0.32132,     0.32232,     0.32332,     0.32432,     0.32533,     0.32633,     0.32733,     0.32833,     0.32933,     0.33033,     0.33133,     0.33233,     0.33333,     0.33433,     0.33534,\n",
              "           0.33634,     0.33734,     0.33834,     0.33934,     0.34034,     0.34134,     0.34234,     0.34334,     0.34434,     0.34535,     0.34635,     0.34735,     0.34835,     0.34935,     0.35035,     0.35135,     0.35235,     0.35335,     0.35435,     0.35536,     0.35636,     0.35736,     0.35836,     0.35936,\n",
              "           0.36036,     0.36136,     0.36236,     0.36336,     0.36436,     0.36537,     0.36637,     0.36737,     0.36837,     0.36937,     0.37037,     0.37137,     0.37237,     0.37337,     0.37437,     0.37538,     0.37638,     0.37738,     0.37838,     0.37938,     0.38038,     0.38138,     0.38238,     0.38338,\n",
              "           0.38438,     0.38539,     0.38639,     0.38739,     0.38839,     0.38939,     0.39039,     0.39139,     0.39239,     0.39339,     0.39439,      0.3954,      0.3964,      0.3974,      0.3984,      0.3994,      0.4004,      0.4014,      0.4024,      0.4034,      0.4044,     0.40541,     0.40641,     0.40741,\n",
              "           0.40841,     0.40941,     0.41041,     0.41141,     0.41241,     0.41341,     0.41441,     0.41542,     0.41642,     0.41742,     0.41842,     0.41942,     0.42042,     0.42142,     0.42242,     0.42342,     0.42442,     0.42543,     0.42643,     0.42743,     0.42843,     0.42943,     0.43043,     0.43143,\n",
              "           0.43243,     0.43343,     0.43443,     0.43544,     0.43644,     0.43744,     0.43844,     0.43944,     0.44044,     0.44144,     0.44244,     0.44344,     0.44444,     0.44545,     0.44645,     0.44745,     0.44845,     0.44945,     0.45045,     0.45145,     0.45245,     0.45345,     0.45445,     0.45546,\n",
              "           0.45646,     0.45746,     0.45846,     0.45946,     0.46046,     0.46146,     0.46246,     0.46346,     0.46446,     0.46547,     0.46647,     0.46747,     0.46847,     0.46947,     0.47047,     0.47147,     0.47247,     0.47347,     0.47447,     0.47548,     0.47648,     0.47748,     0.47848,     0.47948,\n",
              "           0.48048,     0.48148,     0.48248,     0.48348,     0.48448,     0.48549,     0.48649,     0.48749,     0.48849,     0.48949,     0.49049,     0.49149,     0.49249,     0.49349,     0.49449,      0.4955,      0.4965,      0.4975,      0.4985,      0.4995,      0.5005,      0.5015,      0.5025,      0.5035,\n",
              "            0.5045,     0.50551,     0.50651,     0.50751,     0.50851,     0.50951,     0.51051,     0.51151,     0.51251,     0.51351,     0.51451,     0.51552,     0.51652,     0.51752,     0.51852,     0.51952,     0.52052,     0.52152,     0.52252,     0.52352,     0.52452,     0.52553,     0.52653,     0.52753,\n",
              "           0.52853,     0.52953,     0.53053,     0.53153,     0.53253,     0.53353,     0.53453,     0.53554,     0.53654,     0.53754,     0.53854,     0.53954,     0.54054,     0.54154,     0.54254,     0.54354,     0.54454,     0.54555,     0.54655,     0.54755,     0.54855,     0.54955,     0.55055,     0.55155,\n",
              "           0.55255,     0.55355,     0.55455,     0.55556,     0.55656,     0.55756,     0.55856,     0.55956,     0.56056,     0.56156,     0.56256,     0.56356,     0.56456,     0.56557,     0.56657,     0.56757,     0.56857,     0.56957,     0.57057,     0.57157,     0.57257,     0.57357,     0.57457,     0.57558,\n",
              "           0.57658,     0.57758,     0.57858,     0.57958,     0.58058,     0.58158,     0.58258,     0.58358,     0.58458,     0.58559,     0.58659,     0.58759,     0.58859,     0.58959,     0.59059,     0.59159,     0.59259,     0.59359,     0.59459,      0.5956,      0.5966,      0.5976,      0.5986,      0.5996,\n",
              "            0.6006,      0.6016,      0.6026,      0.6036,      0.6046,     0.60561,     0.60661,     0.60761,     0.60861,     0.60961,     0.61061,     0.61161,     0.61261,     0.61361,     0.61461,     0.61562,     0.61662,     0.61762,     0.61862,     0.61962,     0.62062,     0.62162,     0.62262,     0.62362,\n",
              "           0.62462,     0.62563,     0.62663,     0.62763,     0.62863,     0.62963,     0.63063,     0.63163,     0.63263,     0.63363,     0.63463,     0.63564,     0.63664,     0.63764,     0.63864,     0.63964,     0.64064,     0.64164,     0.64264,     0.64364,     0.64464,     0.64565,     0.64665,     0.64765,\n",
              "           0.64865,     0.64965,     0.65065,     0.65165,     0.65265,     0.65365,     0.65465,     0.65566,     0.65666,     0.65766,     0.65866,     0.65966,     0.66066,     0.66166,     0.66266,     0.66366,     0.66466,     0.66567,     0.66667,     0.66767,     0.66867,     0.66967,     0.67067,     0.67167,\n",
              "           0.67267,     0.67367,     0.67467,     0.67568,     0.67668,     0.67768,     0.67868,     0.67968,     0.68068,     0.68168,     0.68268,     0.68368,     0.68468,     0.68569,     0.68669,     0.68769,     0.68869,     0.68969,     0.69069,     0.69169,     0.69269,     0.69369,     0.69469,      0.6957,\n",
              "            0.6967,      0.6977,      0.6987,      0.6997,      0.7007,      0.7017,      0.7027,      0.7037,      0.7047,     0.70571,     0.70671,     0.70771,     0.70871,     0.70971,     0.71071,     0.71171,     0.71271,     0.71371,     0.71471,     0.71572,     0.71672,     0.71772,     0.71872,     0.71972,\n",
              "           0.72072,     0.72172,     0.72272,     0.72372,     0.72472,     0.72573,     0.72673,     0.72773,     0.72873,     0.72973,     0.73073,     0.73173,     0.73273,     0.73373,     0.73473,     0.73574,     0.73674,     0.73774,     0.73874,     0.73974,     0.74074,     0.74174,     0.74274,     0.74374,\n",
              "           0.74474,     0.74575,     0.74675,     0.74775,     0.74875,     0.74975,     0.75075,     0.75175,     0.75275,     0.75375,     0.75475,     0.75576,     0.75676,     0.75776,     0.75876,     0.75976,     0.76076,     0.76176,     0.76276,     0.76376,     0.76476,     0.76577,     0.76677,     0.76777,\n",
              "           0.76877,     0.76977,     0.77077,     0.77177,     0.77277,     0.77377,     0.77477,     0.77578,     0.77678,     0.77778,     0.77878,     0.77978,     0.78078,     0.78178,     0.78278,     0.78378,     0.78478,     0.78579,     0.78679,     0.78779,     0.78879,     0.78979,     0.79079,     0.79179,\n",
              "           0.79279,     0.79379,     0.79479,      0.7958,      0.7968,      0.7978,      0.7988,      0.7998,      0.8008,      0.8018,      0.8028,      0.8038,      0.8048,     0.80581,     0.80681,     0.80781,     0.80881,     0.80981,     0.81081,     0.81181,     0.81281,     0.81381,     0.81481,     0.81582,\n",
              "           0.81682,     0.81782,     0.81882,     0.81982,     0.82082,     0.82182,     0.82282,     0.82382,     0.82482,     0.82583,     0.82683,     0.82783,     0.82883,     0.82983,     0.83083,     0.83183,     0.83283,     0.83383,     0.83483,     0.83584,     0.83684,     0.83784,     0.83884,     0.83984,\n",
              "           0.84084,     0.84184,     0.84284,     0.84384,     0.84484,     0.84585,     0.84685,     0.84785,     0.84885,     0.84985,     0.85085,     0.85185,     0.85285,     0.85385,     0.85485,     0.85586,     0.85686,     0.85786,     0.85886,     0.85986,     0.86086,     0.86186,     0.86286,     0.86386,\n",
              "           0.86486,     0.86587,     0.86687,     0.86787,     0.86887,     0.86987,     0.87087,     0.87187,     0.87287,     0.87387,     0.87487,     0.87588,     0.87688,     0.87788,     0.87888,     0.87988,     0.88088,     0.88188,     0.88288,     0.88388,     0.88488,     0.88589,     0.88689,     0.88789,\n",
              "           0.88889,     0.88989,     0.89089,     0.89189,     0.89289,     0.89389,     0.89489,      0.8959,      0.8969,      0.8979,      0.8989,      0.8999,      0.9009,      0.9019,      0.9029,      0.9039,      0.9049,     0.90591,     0.90691,     0.90791,     0.90891,     0.90991,     0.91091,     0.91191,\n",
              "           0.91291,     0.91391,     0.91491,     0.91592,     0.91692,     0.91792,     0.91892,     0.91992,     0.92092,     0.92192,     0.92292,     0.92392,     0.92492,     0.92593,     0.92693,     0.92793,     0.92893,     0.92993,     0.93093,     0.93193,     0.93293,     0.93393,     0.93493,     0.93594,\n",
              "           0.93694,     0.93794,     0.93894,     0.93994,     0.94094,     0.94194,     0.94294,     0.94394,     0.94494,     0.94595,     0.94695,     0.94795,     0.94895,     0.94995,     0.95095,     0.95195,     0.95295,     0.95395,     0.95495,     0.95596,     0.95696,     0.95796,     0.95896,     0.95996,\n",
              "           0.96096,     0.96196,     0.96296,     0.96396,     0.96496,     0.96597,     0.96697,     0.96797,     0.96897,     0.96997,     0.97097,     0.97197,     0.97297,     0.97397,     0.97497,     0.97598,     0.97698,     0.97798,     0.97898,     0.97998,     0.98098,     0.98198,     0.98298,     0.98398,\n",
              "           0.98498,     0.98599,     0.98699,     0.98799,     0.98899,     0.98999,     0.99099,     0.99199,     0.99299,     0.99399,     0.99499,       0.996,       0.997,       0.998,       0.999,           1]), array([[     0.9726,      0.9726,     0.96712,     0.96438,     0.96438,     0.96438,     0.96164,     0.96164,     0.96164,     0.96164,     0.96164,     0.96164,     0.96164,     0.96164,     0.96164,      0.9589,      0.9589,      0.9589,      0.9589,      0.9589,      0.9589,      0.9589,      0.9589,\n",
              "             0.9589,      0.9589,     0.95616,     0.95616,     0.95616,     0.95616,     0.95616,     0.95342,     0.95023,     0.94795,     0.94795,     0.94788,     0.94521,     0.94521,     0.94521,     0.94521,     0.94521,     0.94521,     0.94521,     0.94521,     0.94521,     0.94521,     0.94521,\n",
              "            0.94521,     0.94521,     0.94247,     0.94247,     0.93973,     0.93973,     0.93973,     0.93973,     0.93973,     0.93973,     0.93973,     0.93973,     0.93973,     0.93973,     0.93973,     0.93973,     0.93973,     0.93973,     0.93973,     0.93973,     0.93973,     0.93973,     0.93973,\n",
              "            0.93973,     0.93973,     0.93973,     0.93973,     0.93973,     0.93973,     0.93973,     0.93973,     0.93973,     0.93973,     0.93973,     0.93973,     0.93973,     0.93973,     0.93973,     0.93973,     0.93973,     0.93973,     0.93973,     0.93973,     0.93699,     0.93699,     0.93699,\n",
              "            0.93699,     0.93699,     0.93699,     0.93699,     0.93699,     0.93699,     0.93699,     0.93699,     0.93699,     0.93699,     0.93699,     0.93699,     0.93699,     0.93699,     0.93699,     0.93699,     0.93699,     0.93699,     0.93699,     0.93699,     0.93699,     0.93699,     0.93699,\n",
              "            0.93699,      0.9362,     0.93484,     0.93425,     0.93425,     0.93425,     0.93425,     0.93425,     0.93425,     0.93425,     0.93425,     0.93425,     0.93425,     0.93425,     0.93425,     0.93425,     0.93425,     0.93425,     0.93425,     0.93425,     0.93425,     0.93425,     0.93425,\n",
              "            0.93425,     0.93425,     0.93425,     0.93425,     0.93425,     0.93425,     0.93425,     0.93315,     0.93202,     0.93151,     0.93151,     0.93151,     0.93151,     0.92877,     0.92877,     0.92877,     0.92877,     0.92877,     0.92877,     0.92783,     0.92611,     0.92438,     0.92329,\n",
              "            0.92329,     0.92329,     0.92189,     0.92055,     0.92055,     0.92055,     0.92055,     0.92055,     0.92055,     0.92055,     0.92055,     0.92055,     0.91944,     0.91781,     0.91781,     0.91781,     0.91781,     0.91781,     0.91781,     0.91781,     0.91781,     0.91507,     0.91507,\n",
              "            0.91507,     0.91507,     0.91507,     0.91495,      0.9127,     0.91233,     0.91233,     0.91117,     0.90959,      0.9095,     0.90838,     0.90725,     0.90685,     0.90685,     0.90685,     0.90685,     0.90657,     0.90545,     0.90432,     0.90411,     0.90411,     0.90411,     0.90411,\n",
              "            0.90411,     0.90411,     0.90411,     0.90411,     0.90411,     0.90411,     0.90411,     0.90411,     0.90411,     0.90411,     0.90411,     0.90411,     0.90411,     0.90411,     0.90411,     0.90411,     0.90199,     0.90137,     0.90137,     0.90137,     0.90137,     0.90137,     0.90137,\n",
              "            0.90137,     0.90137,     0.90137,     0.90137,     0.90137,     0.90137,     0.90137,     0.90137,     0.90137,     0.90137,     0.90137,     0.90137,     0.90137,     0.90137,     0.90137,     0.90137,     0.90137,     0.90137,     0.90137,     0.90137,     0.90137,     0.90137,     0.90137,\n",
              "            0.90137,     0.90137,     0.90137,     0.90137,     0.90137,     0.90137,     0.90137,     0.90137,     0.90137,     0.90137,     0.90137,     0.90137,     0.90137,     0.90137,     0.90137,     0.90137,     0.90137,     0.90137,     0.90137,     0.90137,     0.90137,     0.90137,     0.90137,\n",
              "            0.90137,     0.90137,     0.90137,     0.90137,     0.90137,     0.90137,     0.90116,     0.89863,     0.89863,     0.89863,     0.89863,     0.89863,     0.89863,     0.89863,     0.89863,     0.89863,     0.89863,     0.89863,     0.89863,     0.89863,     0.89835,     0.89765,     0.89695,\n",
              "            0.89624,     0.89589,     0.89589,     0.89589,     0.89589,     0.89589,     0.89589,     0.89589,     0.89589,     0.89589,     0.89589,     0.89589,     0.89589,     0.89589,     0.89589,     0.89589,     0.89589,     0.89589,     0.89589,     0.89589,     0.89589,     0.89589,     0.89589,\n",
              "            0.89589,     0.89589,     0.89589,     0.89589,     0.89589,     0.89561,     0.89495,     0.89429,     0.89363,     0.89315,     0.89315,     0.89315,     0.89315,     0.89315,     0.89315,     0.89242,     0.89162,     0.89082,     0.89041,     0.89026,     0.88997,     0.88968,      0.8894,\n",
              "            0.88911,     0.88882,     0.88853,     0.88824,     0.88796,     0.88767,     0.88767,     0.88767,     0.88767,     0.88731,     0.88629,     0.88527,     0.88493,     0.88493,     0.88493,     0.88493,     0.88493,     0.88493,     0.88493,     0.88493,     0.88493,     0.88493,     0.88493,\n",
              "            0.88219,     0.88219,     0.87945,     0.87945,     0.87945,     0.87619,     0.87458,     0.87334,     0.87232,      0.8713,     0.86992,     0.86851,     0.86849,     0.86849,     0.86849,     0.86849,     0.86849,     0.86849,     0.86849,     0.86513,     0.86419,     0.86326,     0.86269,\n",
              "            0.86226,     0.86183,      0.8614,     0.86097,     0.86053,     0.85915,     0.85753,     0.85732,     0.85683,     0.85634,     0.85585,     0.85536,     0.85487,     0.85417,     0.85342,     0.85267,     0.85205,     0.85205,     0.85205,     0.85205,     0.85205,      0.8512,      0.8484,\n",
              "            0.84658,     0.84658,     0.84658,     0.84658,     0.84658,     0.84658,     0.84658,       0.846,     0.84525,      0.8445,     0.84381,     0.84352,     0.84324,     0.84296,     0.84268,      0.8424,     0.84212,     0.84184,     0.84156,     0.84128,     0.83818,      0.8377,     0.83721,\n",
              "            0.83672,     0.83623,     0.83574,     0.83457,     0.83317,     0.83256,     0.83216,     0.83176,     0.83136,     0.83095,     0.83055,     0.83015,     0.82924,      0.8283,      0.8274,      0.8274,      0.8274,     0.82699,     0.82171,     0.82114,     0.82058,     0.82002,     0.81946,\n",
              "             0.8123,     0.81096,     0.81096,     0.81096,     0.80928,     0.80735,     0.80594,     0.80274,     0.80274,     0.80274,     0.80274,     0.80274,     0.80274,     0.80217,     0.80146,     0.80076,     0.80006,     0.79743,     0.79594,     0.79454,     0.79313,     0.79178,      0.7863,\n",
              "            0.78606,     0.78067,     0.77926,     0.77764,     0.77534,     0.77476,      0.7726,     0.76914,     0.76086,     0.75848,     0.75707,     0.75616,     0.75616,     0.75616,     0.75616,     0.75279,     0.75139,     0.75022,     0.74928,     0.74834,      0.7444,       0.743,     0.74072,\n",
              "            0.73973,     0.73926,     0.73855,     0.73785,     0.73715,     0.73699,     0.72928,     0.72762,     0.72622,     0.72359,     0.72329,     0.72243,      0.7215,     0.72056,     0.71642,     0.71496,     0.71227,     0.71134,      0.7104,     0.70392,     0.70252,     0.69846,     0.69752,\n",
              "            0.69659,     0.69589,     0.69589,     0.69589,     0.69543,     0.69402,      0.6928,     0.69186,     0.69092,     0.68999,     0.68905,     0.68812,     0.68746,     0.68706,     0.68666,     0.68626,     0.68586,     0.68545,     0.68505,     0.68024,     0.67469,     0.67328,     0.67234,\n",
              "             0.6714,      0.6646,      0.6632,     0.65906,     0.65765,     0.65165,     0.65072,     0.64978,     0.64791,     0.64236,     0.63955,     0.63674,     0.63393,     0.62652,     0.62512,     0.62277,     0.62127,     0.62033,     0.61939,      0.6181,     0.61669,     0.61567,     0.61474,\n",
              "             0.6138,     0.60571,     0.60291,     0.59736,     0.59181,      0.5863,     0.58608,     0.57654,     0.57373,     0.57092,     0.56811,     0.56256,      0.5607,     0.55929,     0.55789,     0.55649,     0.54852,     0.54745,     0.54683,      0.5462,     0.54558,     0.54407,     0.54126,\n",
              "            0.53845,     0.53672,     0.53616,     0.53559,     0.53503,     0.53447,     0.52877,     0.52877,     0.52755,     0.52277,     0.51996,     0.51748,     0.51607,     0.51193,     0.51053,     0.50912,     0.50772,     0.50614,     0.50426,     0.50153,     0.49731,      0.4959,     0.49311,\n",
              "             0.4903,     0.48758,     0.48618,      0.4848,     0.48368,     0.48256,     0.47945,     0.47475,     0.47194,     0.47039,     0.46927,     0.46763,     0.46284,     0.46233,     0.46182,     0.46131,      0.4608,     0.46029,     0.45756,     0.45478,     0.45384,     0.45291,     0.45189,\n",
              "            0.45002,      0.4457,     0.44429,      0.4392,     0.43365,     0.42126,     0.41346,     0.41252,     0.41158,     0.40909,     0.40311,     0.39878,     0.39737,     0.39468,     0.39114,     0.38974,     0.38215,     0.37934,     0.37705,     0.37534,     0.37521,     0.37409,     0.37297,\n",
              "            0.37071,     0.36888,     0.36748,     0.36572,     0.36416,     0.36335,     0.36255,     0.36175,     0.35821,      0.3574,      0.3566,     0.34941,     0.34521,     0.34242,     0.33967,     0.33826,     0.33408,     0.33221,     0.32603,      0.3242,     0.31654,     0.31447,       0.311,\n",
              "            0.30854,     0.30713,     0.29913,     0.29288,     0.29208,     0.29128,     0.29048,     0.28321,     0.28183,     0.28102,     0.28022,     0.27663,     0.27476,     0.27332,      0.2722,     0.27112,     0.27032,     0.26952,     0.26871,     0.26646,     0.26228,     0.25995,     0.25883,\n",
              "            0.25771,     0.25516,     0.25098,     0.24581,     0.24394,      0.2376,      0.2368,     0.23599,     0.23462,     0.23284,     0.23233,     0.23182,     0.23131,      0.2308,     0.23029,      0.2271,     0.22569,     0.22319,     0.21974,     0.21768,     0.21612,     0.21519,     0.21425,\n",
              "            0.21293,     0.21106,     0.20215,     0.20153,      0.2009,     0.20028,     0.19664,     0.19551,      0.1942,     0.19167,     0.19087,     0.19006,     0.18926,       0.187,      0.1849,      0.1834,     0.18284,     0.18228,     0.18172,     0.18115,     0.17853,     0.17705,     0.17592,\n",
              "            0.17467,     0.17326,     0.17201,     0.17088,     0.16935,     0.16628,     0.16487,     0.16365,     0.16253,     0.16104,      0.1555,     0.15195,      0.1502,     0.14958,     0.14895,     0.14833,     0.14578,     0.14353,     0.14165,     0.13978,     0.13638,     0.13576,     0.13513,\n",
              "            0.13451,     0.12836,     0.12766,     0.12696,     0.12625,     0.12476,     0.12305,     0.12192,      0.1208,     0.11398,     0.11258,     0.11001,      0.1084,     0.10699,     0.10433,     0.10282,     0.10141,    0.098243,     0.09744,    0.096638,    0.093023,    0.091151,    0.086539,\n",
              "           0.084887,    0.084575,    0.084263,    0.083951,    0.083639,    0.083327,    0.083015,    0.082703,    0.082391,    0.081177,    0.077286,    0.073781,    0.073313,    0.072845,    0.072376,    0.071908,     0.07144,    0.070191,    0.067969,     0.06462,    0.062748,    0.060875,    0.059512,\n",
              "           0.058388,    0.057198,    0.055793,    0.054679,    0.054278,    0.053876,    0.053475,    0.053074,    0.052673,    0.052272,    0.051966,    0.051772,    0.051578,    0.051385,    0.051191,    0.050997,    0.050804,     0.05061,    0.050416,    0.050223,    0.050029,    0.049835,    0.049642,\n",
              "           0.049448,    0.047554,    0.043361,    0.041957,    0.040898,    0.040388,    0.039877,    0.039367,    0.038856,    0.035587,    0.034183,    0.032828,    0.032126,    0.031424,    0.030721,    0.030137,    0.030137,    0.030137,    0.030137,    0.030137,    0.030137,    0.030137,    0.030137,\n",
              "           0.030137,    0.030137,    0.030137,    0.030137,    0.030137,    0.030137,    0.027377,    0.026441,    0.025505,    0.024569,    0.023633,    0.022697,    0.021603,    0.019731,    0.013657,    0.013463,    0.013269,    0.013076,    0.012882,    0.012688,    0.012495,    0.012301,    0.012107,\n",
              "           0.011914,     0.01172,    0.011526,    0.011333,    0.011139,     0.01076,   0.0081706,     0.00766,   0.0071494,   0.0066388,   0.0061282,   0.0056176,   0.0034308,           0,           0,           0,           0,           0,           0,           0,           0,           0,           0,\n",
              "                  0,           0,           0,           0,           0,           0,           0,           0,           0,           0,           0,           0,           0,           0,           0,           0,           0,           0,           0,           0,           0,           0,           0,\n",
              "                  0,           0,           0,           0,           0,           0,           0,           0,           0,           0,           0,           0,           0,           0,           0,           0,           0,           0,           0,           0,           0,           0,           0,\n",
              "                  0,           0,           0,           0,           0,           0,           0,           0,           0,           0,           0,           0,           0,           0,           0,           0,           0,           0,           0,           0,           0,           0,           0,\n",
              "                  0,           0,           0,           0,           0,           0,           0,           0,           0,           0,           0]]), 'Confidence', 'Recall']]\n",
              "fitness: 0.503659552121136\n",
              "keys: ['metrics/precision(B)', 'metrics/recall(B)', 'metrics/mAP50(B)', 'metrics/mAP50-95(B)']\n",
              "maps: array([    0.45788])\n",
              "names: {0: 'sun'}\n",
              "plot: True\n",
              "results_dict: {'metrics/precision(B)': 0.886458272333874, 'metrics/recall(B)': 0.8849315068493151, 'metrics/mAP50(B)': 0.9157053679556951, 'metrics/mAP50-95(B)': 0.4578766836950739, 'fitness': 0.503659552121136}\n",
              "save_dir: PosixPath('runs_detect/train_sun')\n",
              "speed: {'preprocess': 0.21094478860025104, 'inference': 3.0586334745203727, 'loss': 0.0007509841699078034, 'postprocess': 4.119523320486635}\n",
              "task: 'detect'"
            ]
          },
          "metadata": {},
          "execution_count": 5
        }
      ]
    }
  ]
}